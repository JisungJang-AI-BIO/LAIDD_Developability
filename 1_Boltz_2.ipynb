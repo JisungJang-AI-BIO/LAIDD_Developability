{
  "nbformat": 4,
  "nbformat_minor": 0,
  "metadata": {
    "colab": {
      "provenance": [],
      "include_colab_link": true
    },
    "kernelspec": {
      "name": "python3",
      "display_name": "Python 3"
    },
    "language_info": {
      "name": "python"
    }
  },
  "cells": [
    {
      "cell_type": "markdown",
      "metadata": {
        "id": "view-in-github",
        "colab_type": "text"
      },
      "source": [
        "<a href=\"https://colab.research.google.com/github/JisungJang-AI-BIO/LAIDD_Developability/blob/main/1_Boltz_2.ipynb\" target=\"_parent\"><img src=\"https://colab.research.google.com/assets/colab-badge.svg\" alt=\"Open In Colab\"/></a>"
      ]
    },
    {
      "cell_type": "markdown",
      "source": [
        "## 소개 및 설정\n",
        "\n",
        "**실습: Boltz-2를 활용한 항체-항원 구조 예측**\n",
        "\n",
        "**목표**: 이 노트북에서는 Boltz-2를 사용하여 유방암 치료 항체인 트라스투주맙(Trastuzumab)과 그 표적 항원인 HER2 단백질의 결합 구조를 예측합니다. 아미노산 서열 정보만을 이용하여 복잡한 단백질 복합체의 3차원 구조를 생성하고 시각화하는 과정을 경험할 것입니다."
      ],
      "metadata": {
        "id": "GqJ8Wi9O9MYv"
      }
    },
    {
      "cell_type": "code",
      "execution_count": null,
      "metadata": {
        "id": "ZIvOSAWFz5Zq",
        "outputId": "e157865d-b31c-4162-dd44-c930731bf87c",
        "colab": {
          "base_uri": "https://localhost:8080/"
        }
      },
      "outputs": [
        {
          "output_type": "stream",
          "name": "stdout",
          "text": [
            "호환되는 PyTorch 버전을 설치합니다...\n",
            "\u001b[33mWARNING: Ignoring invalid distribution ~vidia-nccl-cu12 (/usr/local/lib/python3.11/dist-packages)\u001b[0m\u001b[33m\n",
            "\u001b[0m\u001b[33mWARNING: Ignoring invalid distribution ~vidia-nccl-cu12 (/usr/local/lib/python3.11/dist-packages)\u001b[0m\u001b[33m\n",
            "\u001b[2K   \u001b[90m━━━━━━━━━━━━━━━━━━━━━━━━━━━━━━━━━━━━━━━━\u001b[0m \u001b[32m166.0/166.0 MB\u001b[0m \u001b[31m6.2 MB/s\u001b[0m eta \u001b[36m0:00:00\u001b[0m\n",
            "\u001b[2K   \u001b[90m━━━━━━━━━━━━━━━━━━━━━━━━━━━━━━━━━━━━━━━━\u001b[0m \u001b[32m99.1/99.1 kB\u001b[0m \u001b[31m6.5 MB/s\u001b[0m eta \u001b[36m0:00:00\u001b[0m\n",
            "\u001b[2K   \u001b[90m━━━━━━━━━━━━━━━━━━━━━━━━━━━━━━━━━━━━━━━━\u001b[0m \u001b[32m167.9/167.9 MB\u001b[0m \u001b[31m6.4 MB/s\u001b[0m eta \u001b[36m0:00:00\u001b[0m\n",
            "\u001b[?25h\u001b[33mWARNING: Ignoring invalid distribution ~vidia-nccl-cu12 (/usr/local/lib/python3.11/dist-packages)\u001b[0m\u001b[33m\n",
            "\u001b[0m"
          ]
        }
      ],
      "source": [
        "# 1단계: Boltz 예측을 위한 패키지 설치\n",
        "# 충돌을 피하기 위해 PyTorch와 Boltz를 나누어 설치합니다.\n",
        "\n",
        "print(\"호환되는 PyTorch 버전을 설치합니다...\")\n",
        "!pip install torch torchvision torchaudio\n",
        "\n",
        "print(\"\\nBoltz 패키지를 설치합니다...\")\n",
        "!pip install boltz -U\n",
        "\n",
        "print(\"\\n설치가 완료되었습니다.\")"
      ]
    },
    {
      "cell_type": "markdown",
      "source": [
        "## 생물학적 문제 정의\n",
        "\n",
        "**표적 항원 (Antigen)**: 인간 상피세포 성장인자 수용체 2(HER2)는 세포 성장을 조절하는 단백질입니다.\n",
        "\n",
        "**항체 (Antibody)**: 트라스투주맙(Trastuzumab)은 HER2에 특이적으로 결합하여 그 기능을 억제하는 항체입니다.\n",
        "\n",
        "**우리의 목표**: Boltz-2를 사용하여 두 단백질의 3차원 결합 구조를 예측합니다."
      ],
      "metadata": {
        "id": "Ne4MdAZM9Zcd"
      }
    },
    {
      "cell_type": "code",
      "source": [
        "# 2단계: 항체와 항원의 아미노산 서열을 정의합니다.\n",
        "\n",
        "heavy_chain_sequence = \"EVQLVESGGGLVQPGGSLRLSCAASGFNIKDTYIHWVRQAPGKGLEWVARIYPTNGYTRYADSVKGRFTISADTSKNTAYLQMNSLRAEDTAVYYCSRWGGDGFYAMDYWGQGTLVTVSS\"\n",
        "light_chain_sequence = \"DIQMTQSPSSLSASVGDRVTITCRASQDVNTAVAWYQQKPGKAPKLLIYSASFLYSGVPSRFSGSRSGTDFTLTISSLQPEDFATYYCQQHYTTPPTFGQGTKVEIK\"\n",
        "antigen_sequence = \"TQVCTGTDMKLRLPASPETHLDMLRHLYQGCQVVQGNLELTYLPTNASLSFLQDIQEVQGYVLIAHNQVRQVPLQRLRIVRGTQLFEDNYALAVLDNGDPLNNTTPVTGASPGGLRELQLRSLTEILKGGVLIQRNPQLCYQDTILWKDIFHKNNQLALTLIDTNRSRACHPCSPMCKGSRCWGESSEDCQSLTRTVCAGGCARCKGPLPTDCCHEQCAAGCTGPKHSDCLACLHFNHSGICELHCPALVTYNTDTFESMPNPEGRYTFGASCVTACPYNYLSTDVGSCTLVCPLHNQEVTAEDGTQRCEKCSKPCARVCYGLGMEHLREVRAVTSANIQEFAGCKKIFGSLAFLPESFDGDPASNTAPLQPEQLQVFETLEEITGYLYISAWPDSLPDLSVFQNLQVIRGRILHNGAYSLTLQGLGISWLGLRSLRELGSGLALIHHNTHLCFVHTVPWDQLFRNPHQALLHTANRPEDECVGEGLACHQLCARGHCWGPGPTQCVNCSQFLRGQECVEECRVLQGLPREYVNARHCLPCHPECQPQNGSVTCFGPEADQCVACAHYKDPPFCVARCPSGVKPDLSYMPIWKFPDEEGACQPCPINCTHSCVDLDDKGCPAEQRASPLT\"\n",
        "output_name = \"Trastuzumab_HER2_prediction\"\n",
        "\n",
        "print(\"입력이 정의되었습니다.\")"
      ],
      "metadata": {
        "id": "_r1Dy76J0t4C"
      },
      "execution_count": null,
      "outputs": []
    },
    {
      "cell_type": "code",
      "source": [
        "# 3단계: Boltz 예측 설정을 위해 YAML 파일을 생성합니다.\n",
        "import yaml\n",
        "\n",
        "input_data = {\n",
        "    'sequences': {\n",
        "        'H': heavy_chain_sequence,\n",
        "        'L': light_chain_sequence,\n",
        "        'A': antigen_sequence\n",
        "    },\n",
        "    'name': output_name\n",
        "}\n",
        "\n",
        "yaml_path = f\"{output_name}.yaml\"\n",
        "with open(yaml_path, 'w') as f:\n",
        "    yaml.dump(input_data, f)\n",
        "\n",
        "print(f\"YAML 입력 파일이 생성되었습니다: {yaml_path}\")"
      ],
      "metadata": {
        "id": "zJWNJoJt0xT2"
      },
      "execution_count": null,
      "outputs": []
    },
    {
      "cell_type": "code",
      "source": [
        "# 4단계: Boltz 예측을 실행합니다.\n",
        "# GPU 런타임에서 실행해야 하며, 몇 분 정도 소요될 수 있습니다.\n",
        "print(\"\\nBoltz-2 예측을 시작합니다... 잠시만 기다려 주세요.\")\n",
        "!boltz predict {yaml_path}\n",
        "print(\"예측이 완료되었습니다!\")"
      ],
      "metadata": {
        "id": "qCDntCi48_MY"
      },
      "execution_count": null,
      "outputs": []
    },
    {
      "cell_type": "markdown",
      "source": [
        "## 분석: 3D 구조 시각화\n",
        "\n",
        "이제 Boltz가 생성한 PDB 파일을 `py3Dmol`을 사용하여 시각화합니다. 이 단계에서는 `boltz`가 더 이상 필요 없으므로, 시각화에 필요한 패키지만 새로 설치하여 진행합니다."
      ],
      "metadata": {
        "id": "LLJ7Ur5J_o6O"
      }
    },
    {
      "cell_type": "code",
      "source": [
        "# 5단계: 시각화 라이브러리 설치\n",
        "# 예측 단계와 분리하여 시각화에 필요한 py3Dmol을 설치합니다.\n",
        "print(\"시각화를 위해 py3Dmol을 설치합니다...\")\n",
        "!pip install py3Dmol -q"
      ],
      "metadata": {
        "id": "InstallPy3DMol",
        "outputId": "0f38b5bc-af4a-49fa-81eb-b2de84cde8ea",
        "colab": {
          "base_uri": "https://localhost:8080/"
        }
      },
      "execution_count": null,
      "outputs": [
        {
          "output_type": "stream",
          "name": "stdout",
          "text": [
            "시각화를 위해 py3Dmol을 설치합니다...\n",
            "Traceback (most recent call last):\n",
            "  File \"/usr/local/bin/pip3\", line 4, in <module>\n",
            "    from pip._internal.cli.main import main\n",
            "  File \"/usr/local/lib/python3.11/dist-packages/pip/_internal/cli/main.py\", line 11, in <module>\n",
            "    from pip._internal.cli.autocompletion import autocomplete\n",
            "  File \"/usr/local/lib/python3.11/dist-packages/pip/_internal/cli/autocompletion.py\", line 10, in <module>\n",
            "^C\n"
          ]
        }
      ]
    },
    {
      "cell_type": "code",
      "source": [
        "# 6단계: 예측된 구조를 시각화합니다.\n",
        "import py3Dmol\n",
        "import os\n",
        "\n",
        "try:\n",
        "    pdb_file_path = os.path.join(output_name, 'unrelaxed_model_1.pdb')\n",
        "\n",
        "    if not os.path.exists(pdb_file_path):\n",
        "        raise FileNotFoundError\n",
        "\n",
        "    with open(pdb_file_path, 'r') as f:\n",
        "        pdb_data = f.read()\n",
        "\n",
        "    view = py3Dmol.view(width=800, height=600)\n",
        "    view.addModel(pdb_data, \"pdb\")\n",
        "\n",
        "    # 각 체인을 다른 색상으로 시각화\n",
        "    view.setStyle({'chain':'A'}, {'cartoon': {'color':'red'}})\n",
        "    view.setStyle({'chain':'H'}, {'cartoon': {'color':'blue'}})\n",
        "    view.setStyle({'chain':'L'}, {'cartoon': {'color':'green'}})\n",
        "\n",
        "    view.zoomTo()\n",
        "    view.show()\n",
        "except FileNotFoundError:\n",
        "    print(f\"오류: 예측된 PDB 파일({pdb_file_path})을 찾을 수 없습니다. 4단계가 성공적으로 실행되었는지 확인하세요.\")\n",
        "except Exception as e:\n",
        "    print(f\"시각화 중 오류가 발생했습니다: {e}\")"
      ],
      "metadata": {
        "id": "DROiGnhW_qyK"
      },
      "execution_count": null,
      "outputs": []
    }
  ]
}