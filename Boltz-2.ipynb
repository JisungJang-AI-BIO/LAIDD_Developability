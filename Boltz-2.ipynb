{
  "nbformat": 4,
  "nbformat_minor": 0,
  "metadata": {
    "colab": {
      "provenance": [],
      "gpuType": "T4",
      "include_colab_link": true
    },
    "kernelspec": {
      "name": "python3",
      "display_name": "Python 3"
    },
    "language_info": {
      "name": "python"
    },
    "accelerator": "GPU"
  },
  "cells": [
    {
      "cell_type": "markdown",
      "metadata": {
        "id": "view-in-github",
        "colab_type": "text"
      },
      "source": [
        "<a href=\"https://colab.research.google.com/github/JisungJang-AI-BIO/LAIDD_Developability/blob/main/Boltz-2.ipynb\" target=\"_parent\"><img src=\"https://colab.research.google.com/assets/colab-badge.svg\" alt=\"Open In Colab\"/></a>"
      ]
    },
    {
      "cell_type": "markdown",
      "source": [
        "## 소개 및 설정\n",
        "\n",
        "**실습: Boltz-2를 활용한 항체-항원 구조 예측**\n",
        "\n",
        "**목표**: 이 노트북에서는 Boltz-2를 사용하여 Trastuzumab Fab 구조를 예측합니다. 아미노산 서열 정보만을 이용하여 복잡한 단백질 복합체의 3차원 구조를 생성하고 시각화하는 과정을 경험할 것입니다."
      ],
      "metadata": {
        "id": "GqJ8Wi9O9MYv"
      }
    },
    {
      "cell_type": "code",
      "execution_count": null,
      "metadata": {
        "id": "ZIvOSAWFz5Zq",
        "colab": {
          "base_uri": "https://localhost:8080/"
        },
        "outputId": "f32fb31d-69d2-47a4-e0e8-0852d482932e"
      },
      "outputs": [
        {
          "output_type": "stream",
          "name": "stdout",
          "text": [
            "기존 PyTorch 및 Boltz 관련 패키지를 제거합니다...\n",
            "\n",
            "Boltz와 호환되는 모든 패키지를 동시에 설치합니다...\n",
            "\u001b[33mWARNING: Ignoring invalid distribution ~orch (/usr/local/lib/python3.11/dist-packages)\u001b[0m\u001b[33m\n",
            "\u001b[0m\u001b[33mWARNING: Ignoring invalid distribution ~orch (/usr/local/lib/python3.11/dist-packages)\u001b[0m\u001b[33m\n",
            "\u001b[2K     \u001b[90m━━━━━━━━━━━━━━━━━━━━━━━━━━━━━━━━━━━━━━━\u001b[0m \u001b[32m410.6/410.6 MB\u001b[0m \u001b[31m4.1 MB/s\u001b[0m eta \u001b[36m0:00:00\u001b[0m\n",
            "\u001b[2K     \u001b[90m━━━━━━━━━━━━━━━━━━━━━━━━━━━━━━━━━━━━━━━\u001b[0m \u001b[32m121.6/121.6 MB\u001b[0m \u001b[31m7.5 MB/s\u001b[0m eta \u001b[36m0:00:00\u001b[0m\n",
            "\u001b[2K     \u001b[90m━━━━━━━━━━━━━━━━━━━━━━━━━━━━━━━━━━━━━━━━\u001b[0m \u001b[32m56.5/56.5 MB\u001b[0m \u001b[31m13.8 MB/s\u001b[0m eta \u001b[36m0:00:00\u001b[0m\n",
            "\u001b[2K     \u001b[90m━━━━━━━━━━━━━━━━━━━━━━━━━━━━━━━━━━━━━━━\u001b[0m \u001b[32m124.2/124.2 MB\u001b[0m \u001b[31m7.0 MB/s\u001b[0m eta \u001b[36m0:00:00\u001b[0m\n",
            "\u001b[2K     \u001b[90m━━━━━━━━━━━━━━━━━━━━━━━━━━━━━━━━━━━━━━━\u001b[0m \u001b[32m196.0/196.0 MB\u001b[0m \u001b[31m6.7 MB/s\u001b[0m eta \u001b[36m0:00:00\u001b[0m\n",
            "\u001b[2K     \u001b[90m━━━━━━━━━━━━━━━━━━━━━━━━━━━━━━━━━━━━━━━\u001b[0m \u001b[32m166.0/166.0 MB\u001b[0m \u001b[31m6.6 MB/s\u001b[0m eta \u001b[36m0:00:00\u001b[0m\n",
            "\u001b[2K     \u001b[90m━━━━━━━━━━━━━━━━━━━━━━━━━━━━━━━━━━━━━━━━\u001b[0m \u001b[32m99.1/99.1 kB\u001b[0m \u001b[31m9.7 MB/s\u001b[0m eta \u001b[36m0:00:00\u001b[0m\n",
            "\u001b[2K     \u001b[90m━━━━━━━━━━━━━━━━━━━━━━━━━━━━━━━━━━━━━━━\u001b[0m \u001b[32m167.9/167.9 MB\u001b[0m \u001b[31m6.2 MB/s\u001b[0m eta \u001b[36m0:00:00\u001b[0m\n",
            "\u001b[2K     \u001b[90m━━━━━━━━━━━━━━━━━━━━━━━━━━━━━━━━━━━━━━━━\u001b[0m \u001b[32m61.0/61.0 kB\u001b[0m \u001b[31m2.4 MB/s\u001b[0m eta \u001b[36m0:00:00\u001b[0m\n",
            "\u001b[?25h"
          ]
        }
      ],
      "source": [
        "# 1단계: 기존 패키지를 모두 제거하여 깨끗한 상태를 보장합니다.\n",
        "print(\"Dependency version 충돌 발생 시 기존 PyTorch 및 Boltz 관련 패키지를 제거합니다...\")\n",
        "#!pip uninstall torch torchvision torchaudio boltz -y -q\n",
        "\n",
        "# 2단계: 모든 제약조건(boltz, torch==2.2.0 등)을 단일 명령어로 전달하여 한 번에 설치합니다.\n",
        "# --extra-index-url을 사용하여 PyPI와 PyTorch 서버를 모두 검색하도록 합니다.\n",
        "print(\"\\nBoltz와 호환되는 모든 패키지를 동시에 설치합니다...\")\n",
        "!pip install boltz torch==2.2.0 torchvision==0.17.0 torchaudio==2.2.0 --extra-index-url https://download.pytorch.org/whl/cu121 -q\n",
        "\n",
        "# 3단계: 설치된 버전을 최종 확인하여, torch가 의도한 대로 2.2.0으로 설치되었는지 검증합니다.\n",
        "print(\"\\n설치된 패키지 버전을 확인합니다.\")\n",
        "!pip show torch torchvision"
      ]
    },
    {
      "cell_type": "code",
      "source": [
        "import yaml\n",
        "import datetime\n",
        "import os\n",
        "import glob\n",
        "import py3Dmol\n",
        "\n",
        "# 1. 입력 데이터 변경: 트라스투주맙의 가변 영역(VH, VL) 서열을 정의합니다.\n",
        "# ------------------------------------------------------------------------------------------------\n",
        "# Trastuzumab Heavy Chain 가변 영역 (VH)\n",
        "heavy_chain_sequence = \"EVQLVESGGGLVQPGGSLRLSCAASGFNIKDTYIHWVRQAPGKGLEWVARIYPTNGYTRYADSVKGRFTISADTSKNTAYLQMNSLRAEDTAVYYCSRWGGDGFYAMDYWGQGTLVTVSS\"\n",
        "\n",
        "# Trastuzumab Light Chain 가변 영역 (VL)\n",
        "light_chain_sequence = \"DIQMTQSPSSLSASVGDRVTITCRASQDVNTAVAWYQQKPGKAPKLLIYSASFLYSGVPSRFSGSRSGTDFTLTISSLQPEDFATYYCQQHYTTPPTFGQGTKVEIK\"\n",
        "\n",
        "# 새로운 출력 파일 이름\n",
        "output_name = \"Trastuzumab_Fab_prediction\"\n",
        "\n",
        "\n",
        "# 2. YAML 파일 생성: VH와 VL, 두 개의 체인만 포함합니다.\n",
        "# ---------------------------------------------------------------------------------\n",
        "input_data = {\n",
        "    'sequences': [\n",
        "        {\n",
        "            'protein': {\n",
        "                'id': 'H',\n",
        "                'sequence': heavy_chain_sequence\n",
        "            }\n",
        "        },\n",
        "        {\n",
        "            'protein': {\n",
        "                'id': 'L',\n",
        "                'sequence': light_chain_sequence\n",
        "            }\n",
        "        }\n",
        "    ],\n",
        "    'name': output_name\n",
        "}\n",
        "\n",
        "yaml_path = f\"{output_name}.yaml\"\n",
        "with open(yaml_path, 'w') as f:\n",
        "    yaml.dump(input_data, f, indent=2, sort_keys=False)\n",
        "\n",
        "print(f\"✅ 새로운 YAML 파일 생성 완료: {yaml_path}\")\n",
        "\n",
        "\n",
        "# 3. Boltz 예측 실행\n",
        "# ---------------------------------------------------------------------------------\n",
        "timestamp = datetime.datetime.now().strftime('%Y%m%d_%H%M%S')\n",
        "output_dir = f\"boltz_run_{timestamp}\"\n",
        "\n",
        "print(f\"✅ 결과가 저장될 폴더: {output_dir}\")\n",
        "print(\"\\nBoltz-2 예측을 시작합니다...\")\n",
        "\n",
        "!boltz predict {yaml_path} \\\n",
        "    --use_msa_server \\\n",
        "    --output_format pdb \\\n",
        "    --out_dir {output_dir}\n",
        "\n",
        "print(\"\\n--- 예측 프로세스 완료 ---\")\n",
        "\n",
        "\n",
        "# 4. 결과 시각화\n",
        "# ---------------------------------------------------------------------------------\n",
        "print(\"\\n결과 시각화를 시작합니다...\")\n",
        "\n",
        "pdb_files = glob.glob(os.path.join(output_dir, '**', '*.pdb'), recursive=True)\n",
        "\n",
        "try:\n",
        "    if not pdb_files:\n",
        "        raise FileNotFoundError(f\"'{output_dir}' 폴더에서 .pdb 파일을 찾을 수 없습니다.\")\n",
        "\n",
        "    pdb_files.sort()\n",
        "    pdb_file_path = pdb_files[0]\n",
        "    print(f\"✅ 발견된 PDB 파일: {pdb_file_path}\")\n",
        "\n",
        "    with open(pdb_file_path, 'r') as f:\n",
        "        pdb_data = f.read()\n",
        "\n",
        "    view = py3Dmol.view(width=800, height=600)\n",
        "    view.addModel(pdb_data, \"pdb\")\n",
        "    view.setStyle({'chain':'H'}, {'cartoon': {'color':'blue'}})\n",
        "    view.setStyle({'chain':'L'}, {'cartoon': {'color':'green'}})\n",
        "    view.zoomTo()\n",
        "    view.show()\n",
        "\n",
        "except FileNotFoundError as e:\n",
        "    print(f\"오류: {e}\")\n",
        "except Exception as e:\n",
        "    print(f\"시각화 중 오류가 발생했습니다: {e}\")"
      ],
      "metadata": {
        "id": "L2N03tPQOeZ6"
      },
      "execution_count": null,
      "outputs": []
    },
    {
      "cell_type": "code",
      "source": [
        "# ######################################################################################\n",
        "# ## (참고) Trastuzumab - HER2 항원 결합 구조 예측\n",
        "# ## ----------------------------------------------------------------------------------\n",
        "# ## ⚠️ 경고: 이 예제는 항원(Antigen)의 크기가 매우 커서,\n",
        "# ## 일반적인 Colab GPU 환경에서는 메모리 부족(Out of Memory)으로 실패할 가능성이 매우 높습니다.\n",
        "# ## 더 높은 사양의 GPU 환경에서 테스트하거나 참고용으로만 활용하는 것을 권장합니다.\n",
        "# ######################################################################################\n",
        "\n",
        "import yaml\n",
        "import datetime\n",
        "import os\n",
        "import glob\n",
        "import py3Dmol\n",
        "\n",
        "# 1. 입력 데이터 정의: 트라스투주맙(VH, VL)과 HER2 항원 서열\n",
        "# ------------------------------------------------------------------------------------------------\n",
        "# 트라스투주맙(Trastuzumab) Heavy Chain 가변 영역 (VH)\n",
        "heavy_chain_sequence_orig = \"EVQLVESGGGLVQPGGSLRLSCAASGFNIKDTYIHWVRQAPGKGLEWVARIYPTNGYTRYADSVKGRFTISADTSKNTAYLQMNSLRAEDTAVYYCSRWGGDGFYAMDYWGQGTLVTVSS\"\n",
        "\n",
        "# 트라스투주맙(Trastuzumab) Light Chain 가변 영역 (VL)\n",
        "light_chain_sequence_orig = \"DIQMTQSPSSLSASVGDRVTITCRASQDVNTAVAWYQQKPGKAPKLLIYSASFLYSGVPSRFSGSRSGTDFTLTISSLQPEDFATYYCQQHYTTPPTFGQGTKVEIK\"\n",
        "\n",
        "# HER2 단백질의 세포 외 도메인 (Antigen, 630 아미노산)\n",
        "antigen_sequence_orig = \"TQVCTGTDMKLRLPASPETHLDMLRHLYQGCQVVQGNLELTYLPTNASLSFLQDIQEVQGYVLIAHNQVRQVPLQRLRIVRGTQLFEDNYALAVLDNGDPLNNTTPVTGASPGGLRELQLRSLTEILKGGVLIQRNPQLCYQDTILWKDIFHKNNQLALTLIDTNRSRACHPCSPMCKGSRCWGESSEDCQSLTRTVCAGGCARCKGPLPTDCCHEQCAAGCTGPKHSDCLACLHFNHSGICELHCPALVTYNTDTFESMPNPEGRYTFGASCVTACPYNYLSTDVGSCTLVCPLHNQEVTAEDGTQRCEKCSKPCARVCYGLGMEHLREVRAVTSANIQEFAGCKKIFGSLAFLPESFDGDPASNTAPLQPEQLQVFETLEEITGYLYISAWPDSLPDLSVFQNLQVIRGRILHNGAYSLTLQGLGISWLGLRSLRELGSGLALIHHNTHLCFVHTVPWDQLFRNPHQALLHTANRPEDECVGEGLACHQLCARGHCWGPGPTQCVNCSQFLRGQECVEECRVLQGLPREYVNARHCLPCHPECQPQNGSVTCFGPEADQCVACAHYKDPPFCVARCPSGVKPDLSYMPIWKFPDEEGACQPCPINCTHSCVDLDDKGCPAEQRASPLT\"\n",
        "\n",
        "# 새로운 출력 파일 이름\n",
        "output_name_orig = \"Trastuzumab_HER2_binding_prediction\"\n",
        "\n",
        "\n",
        "# 2. YAML 파일 생성\n",
        "# ---------------------------------------------------------------------------------\n",
        "input_data_orig = {\n",
        "    'sequences': [\n",
        "        {\n",
        "            'protein': {\n",
        "                'id': 'H',\n",
        "                'sequence': heavy_chain_sequence_orig\n",
        "            }\n",
        "        },\n",
        "        {\n",
        "            'protein': {"
      ],
      "metadata": {
        "id": "3lY2_Wp8RUwZ"
      },
      "execution_count": null,
      "outputs": []
    }
  ]
}