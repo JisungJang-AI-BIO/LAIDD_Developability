{
  "nbformat": 4,
  "nbformat_minor": 0,
  "metadata": {
    "colab": {
      "provenance": [],
      "gpuType": "T4",
      "include_colab_link": true
    },
    "kernelspec": {
      "name": "python3",
      "display_name": "Python 3"
    },
    "language_info": {
      "name": "python"
    },
    "accelerator": "GPU"
  },
  "cells": [
    {
      "cell_type": "markdown",
      "metadata": {
        "id": "view-in-github",
        "colab_type": "text"
      },
      "source": [
        "<a href=\"https://colab.research.google.com/github/JisungJang-AI-BIO/LAIDD_Developability/blob/main/Boltz-2.ipynb\" target=\"_parent\"><img src=\"https://colab.research.google.com/assets/colab-badge.svg\" alt=\"Open In Colab\"/></a>"
      ]
    },
    {
      "cell_type": "markdown",
      "source": [
        "## 1. 환경 설정: Boltz 및 의존성 패키지 설치\n",
        "\n",
        "`boltz==2.1.1`의 공식 요구사항(`pytorch-lightning==2.5.0`)과 호환되는 PyTorch 버전(`2.3.0`)을 명시하여 모든 패키지를 한 번에 설치합니다."
      ],
      "metadata": {
        "id": "intro_cell"
      }
    },
    {
      "cell_type": "code",
      "source": [
        "# 1단계: Boltz 예측을 위한 패키지 설치\",\n",
        "# 충돌을 피하기 위해 PyTorch와 Boltz를 나누어 설치합니다.\n",
        "print(\"호환되는 PyTorch 버전을 설치합니다...\")\n",
        "!pip install torch==2.2.0 torchvision==0.17.0 torchaudio==2.2.0 --index-url https://download.pytorch.org/whl/cu121 -q\n",
        "print(\"Boltz 패키지를 설치합니다...\")\n",
        "!pip install boltz -U -q\n",
        "print(\"설치가 완료되었습니다.\")"
      ],
      "metadata": {
        "id": "install_cell",
        "colab": {
          "base_uri": "https://localhost:8080/",
          "height": 111
        },
        "outputId": "3b468a82-6b49-4fce-c013-e639c75dd432"
      },
      "execution_count": 6,
      "outputs": [
        {
          "output_type": "error",
          "ename": "SyntaxError",
          "evalue": "unterminated string literal (detected at line 7) (ipython-input-6-2103131684.py, line 7)",
          "traceback": [
            "\u001b[0;36m  File \u001b[0;32m\"/tmp/ipython-input-6-2103131684.py\"\u001b[0;36m, line \u001b[0;32m7\u001b[0m\n\u001b[0;31m    print(\"설치가 완료되었습니다.\")\"\u001b[0m\n\u001b[0m                         ^\u001b[0m\n\u001b[0;31mSyntaxError\u001b[0m\u001b[0;31m:\u001b[0m unterminated string literal (detected at line 7)\n"
          ]
        }
      ]
    },
    {
      "cell_type": "markdown",
      "source": [
        "---"
      ],
      "metadata": {
        "id": "divider_1"
      }
    },
    {
      "cell_type": "markdown",
      "source": [
        "## 2. Trastuzumab Fab 단편 구조 예측 (실행 예제)\n",
        "\n",
        "항원 없이 Trastuzumab 항체의 가변 영역(VH, VL)만으로 Fab 구조를 예측합니다. Colab 환경에서 정상적으로 실행됩니다."
      ],
      "metadata": {
        "id": "fab_only_intro"
      }
    },
    {
      "cell_type": "code",
      "source": [
        "import yaml\n",
        "import datetime\n",
        "import os\n",
        "import glob\n",
        "import py3Dmol\n",
        "\n",
        "# 입력 데이터: Trastuzumab Fab (VH, VL)\n",
        "heavy_chain_sequence = \"EVQLVESGGGLVQPGGSLRLSCAASGFNIKDTYIHWVRQAPGKGLEWVARIYPTNGYTRYADSVKGRFTISADTSKNTAYLQMNSLRAEDTAVYYCSRWGGDGFYAMDYWGQGTLVTVSS\"\n",
        "light_chain_sequence = \"DIQMTQSPSSLSASVGDRVTITCRASQDVNTAVAWYQQKPGKAPKLLIYSASFLYSGVPSRFSGSRSGTDFTLTISSLQPEDFATYYCQQHYTTPPTFGQGTKVEIK\"\n",
        "output_name = \"Trastuzumab_Fab_prediction\"\n",
        "\n",
        "# YAML 파일 생성\n",
        "input_data = {\n",
        "    'sequences': [\n",
        "        {'protein': {'id': 'H', 'sequence': heavy_chain_sequence}},\n",
        "        {'protein': {'id': 'L', 'sequence': light_chain_sequence}}\n",
        "    ],\n",
        "    'name': output_name\n",
        "}\n",
        "yaml_path = f\"{output_name}.yaml\"\n",
        "with open(yaml_path, 'w') as f:\n",
        "    yaml.dump(input_data, f, indent=2, sort_keys=False)\n",
        "print(f\"✅ YAML 파일 생성 완료: {yaml_path}\")\n",
        "\n",
        "# Boltz 예측 실행\n",
        "timestamp = datetime.datetime.now().strftime('%Y%m%d_%H%M%S')\n",
        "output_dir = f\"boltz_run_{timestamp}\"\n",
        "print(f\"✅ 결과 저장 폴더: {output_dir}\")\n",
        "print(\"\\nBoltz-2 예측을 시작합니다...\")\n",
        "!boltz predict {yaml_path} --use_msa_server --output_format pdb --out_dir {output_dir}\n",
        "print(\"\\n--- 예측 프로세스 완료 ---\")\n",
        "\n",
        "# 결과 시각화\n",
        "print(\"\\n결과 시각화를 시작합니다...\")\n",
        "pdb_files = glob.glob(os.path.join(output_dir, '**', '*.pdb'), recursive=True)\n",
        "try:\n",
        "    if not pdb_files:\n",
        "        raise FileNotFoundError(f\"'{output_dir}' 폴더에서 .pdb 파일을 찾을 수 없습니다.\")\n",
        "    pdb_files.sort()\n",
        "    pdb_file_path = pdb_files[0]\n",
        "    print(f\"✅ 발견된 PDB 파일: {pdb_file_path}\")\n",
        "    with open(pdb_file_path, 'r') as f:\n",
        "        pdb_data = f.read()\n",
        "    view = py3Dmol.view(width=800, height=600)\n",
        "    view.addModel(pdb_data, \"pdb\")\n",
        "    view.setStyle({'chain':'H'}, {'cartoon': {'color':'blue'}})\n",
        "    view.setStyle({'chain':'L'}, {'cartoon': {'color':'green'}})\n",
        "    view.zoomTo()\n",
        "    view.show()\n",
        "except FileNotFoundError as e:\n",
        "    print(f\"오류: {e}\")\n",
        "except Exception as e:\n",
        "    print(f\"시각화 중 오류가 발생했습니다: {e}\")"
      ],
      "metadata": {
        "id": "fab_only_code",
        "colab": {
          "base_uri": "https://localhost:8080/",
          "height": 407
        },
        "outputId": "603c00c6-1666-42e8-d846-7b9cf1f09a3b"
      },
      "execution_count": 3,
      "outputs": [
        {
          "output_type": "error",
          "ename": "ModuleNotFoundError",
          "evalue": "No module named 'py3Dmol'",
          "traceback": [
            "\u001b[0;31m---------------------------------------------------------------------------\u001b[0m",
            "\u001b[0;31mModuleNotFoundError\u001b[0m                       Traceback (most recent call last)",
            "\u001b[0;32m/tmp/ipython-input-3-2475198041.py\u001b[0m in \u001b[0;36m<cell line: 0>\u001b[0;34m()\u001b[0m\n\u001b[1;32m      3\u001b[0m \u001b[0;32mimport\u001b[0m \u001b[0mos\u001b[0m\u001b[0;34m\u001b[0m\u001b[0;34m\u001b[0m\u001b[0m\n\u001b[1;32m      4\u001b[0m \u001b[0;32mimport\u001b[0m \u001b[0mglob\u001b[0m\u001b[0;34m\u001b[0m\u001b[0;34m\u001b[0m\u001b[0m\n\u001b[0;32m----> 5\u001b[0;31m \u001b[0;32mimport\u001b[0m \u001b[0mpy3Dmol\u001b[0m\u001b[0;34m\u001b[0m\u001b[0;34m\u001b[0m\u001b[0m\n\u001b[0m\u001b[1;32m      6\u001b[0m \u001b[0;34m\u001b[0m\u001b[0m\n\u001b[1;32m      7\u001b[0m \u001b[0;31m# 입력 데이터: Trastuzumab Fab (VH, VL)\u001b[0m\u001b[0;34m\u001b[0m\u001b[0;34m\u001b[0m\u001b[0m\n",
            "\u001b[0;31mModuleNotFoundError\u001b[0m: No module named 'py3Dmol'",
            "",
            "\u001b[0;31m---------------------------------------------------------------------------\u001b[0;32m\nNOTE: If your import is failing due to a missing package, you can\nmanually install dependencies using either !pip or !apt.\n\nTo view examples of installing some common dependencies, click the\n\"Open Examples\" button below.\n\u001b[0;31m---------------------------------------------------------------------------\u001b[0m\n"
          ],
          "errorDetails": {
            "actions": [
              {
                "action": "open_url",
                "actionText": "Open Examples",
                "url": "/notebooks/snippets/importing_libraries.ipynb"
              }
            ]
          }
        }
      ]
    },
    {
      "cell_type": "markdown",
      "source": [
        "---"
      ],
      "metadata": {
        "id": "divider_2"
      }
    },
    {
      "cell_type": "markdown",
      "source": [
        "## 3. (참고) Trastuzumab - HER2 항원 결합 구조 예측\n",
        "\n",
        "⚠️ **경고**: 이 예제는 항원의 크기가 매우 커서, 일반 Colab GPU 환경에서는 **메모리 부족(Out of Memory)으로 실패할 가능성이 매우 높습니다.** 더 높은 사양의 GPU 환경에서 테스트하거나 참고용으로만 활용하는 것을 권장합니다."
      ],
      "metadata": {
        "id": "her2_intro"
      }
    },
    {
      "cell_type": "code",
      "source": [
        "import yaml\n",
        "import datetime\n",
        "import os\n",
        "import glob\n",
        "import py3Dmol\n",
        "\n",
        "# 입력 데이터: Trastuzumab(VH, VL)과 HER2 항원\n",
        "heavy_chain_sequence_orig = \"EVQLVESGGGLVQPGGSLRLSCAASGFNIKDTYIHWVRQAPGKGLEWVARIYPTNGYTRYADSVKGRFTISADTSKNTAYLQMNSLRAEDTAVYYCSRWGGDGFYAMDYWGQGTLVTVSS\"\n",
        "light_chain_sequence_orig = \"DIQMTQSPSSLSASVGDRVTITCRASQDVNTAVAWYQQKPGKAPKLLIYSASFLYSGVPSRFSGSRSGTDFTLTISSLQPEDFATYYCQQHYTTPPTFGQGTKVEIK\"\n",
        "antigen_sequence_orig = \"TQVCTGTDMKLRLPASPETHLDMLRHLYQGCQVVQGNLELTYLPTNASLSFLQDIQEVQGYVLIAHNQVRQVPLQRLRIVRGTQLFEDNYALAVLDNGDPLNNTTPVTGASPGGLRELQLRSLTEILKGGVLIQRNPQLCYQDTILWKDIFHKNNQLALTLIDTNRSRACHPCSPMCKGSRCWGESSEDCQSLTRTVCAGGCARCKGPLPTDCCHEQCAAGCTGPKHSDCLACLHFNHSGICELHCPALVTYNTDTFESMPNPEGRYTFGASCVTACPYNYLSTDVGSCTLVCPLHNQEVTAEDGTQRCEKCSKPCARVCYGLGMEHLREVRAVTSANIQEFAGCKKIFGSLAFLPESFDGDPASNTAPLQPEQLQVFETLEEITGYLYISAWPDSLPDLSVFQNLQVIRGRILHNGAYSLTLQGLGISWLGLRSLRELGSGLALIHHNTHLCFVHTVPWDQLFRNPHQALLHTANRPEDECVGEGLACHQLCARGHCWGPGPTQCVNCSQFLRGQECVEECRVLQGLPREYVNARHCLPCHPECQPQNGSVTCFGPEADQCVACAHYKDPPFCVARCPSGVKPDLSYMPIWKFPDEEGACQPCPINCTHSCVDLDDKGCPAEQRASPLT\"\n",
        "output_name_orig = \"Trastuzumab_HER2_binding_prediction\"\n",
        "\n",
        "# YAML 파일 생성\n",
        "input_data_orig = {\n",
        "    'sequences': [\n",
        "        {'protein': {'id': 'H', 'sequence': heavy_chain_sequence_orig}},\n",
        "        {'protein': {'id': 'L', 'sequence': light_chain_sequence_orig}},\n",
        "        {'protein': {'id': 'A', 'sequence': antigen_sequence_orig}}\n",
        "    ],\n",
        "    'name': output_name_orig\n",
        "}\n",
        "yaml_path_orig = f\"{output_name_orig}.yaml\"\n",
        "with open(yaml_path_orig, 'w') as f:\n",
        "    yaml.dump(input_data_orig, f, indent=2, sort_keys=False)\n",
        "print(f\"✅ YAML 파일 생성 완료: {yaml_path_orig}\")\n",
        "\n",
        "# Boltz 예측 실행\n",
        "timestamp_orig = datetime.datetime.now().strftime('%Y%m%d_%H%M%S')\n",
        "output_dir_orig = f\"boltz_run_{timestamp_orig}\"\n",
        "print(f\"✅ 결과 저장 폴더: {output_dir_orig}\")\n",
        "print(\"\\nBoltz-2 예측을 시작합니다...\")\n",
        "!boltz predict {yaml_path_orig} --use_msa_server --output_format pdb --out_dir {output_dir_orig}\n",
        "print(\"\\n--- 예측 프로세스 완료 ---\")\n",
        "\n",
        "# 결과 시각화\n",
        "print(\"\\n결과 시각화를 시작합니다...\")\n",
        "pdb_files_orig = glob.glob(os.path.join(output_dir_orig, '**', '*.pdb'), recursive=True)\n",
        "try:\n",
        "    if not pdb_files_orig:\n",
        "        raise FileNotFoundError(f\"'{output_dir_orig}' 폴더에서 .pdb 파일을 찾을 수 없습니다.\")\n",
        "    pdb_files_orig.sort()\n",
        "    pdb_file_path_orig = pdb_files_orig[0]\n",
        "    print(f\"✅ 발견된 PDB 파일: {pdb_file_path_orig}\")\n",
        "    with open(pdb_file_path_orig, 'r') as f:\n",
        "        pdb_data_orig = f.read()\n",
        "    view = py3Dmol.view(width=800, height=600)\n",
        "    view.addModel(pdb_data_orig, \"pdb\")\n",
        "    view.setStyle({'chain':'H'}, {'cartoon': {'color':'blue'}})\n",
        "    view.setStyle({'chain':'L'}, {'cartoon': {'color':'green'}})\n",
        "    view.setStyle({'chain':'A'}, {'cartoon': {'color':'red'}})\n",
        "    view.zoomTo()\n",
        "    view.show()\n",
        "except FileNotFoundError as e:\n",
        "    print(f\"오류: {e}\")\n",
        "except Exception as e:\n",
        "    print(f\"시각화 중 오류가 발생했습니다: {e}\")"
      ],
      "metadata": {
        "id": "her2_code"
      },
      "execution_count": null,
      "outputs": []
    }
  ]
}