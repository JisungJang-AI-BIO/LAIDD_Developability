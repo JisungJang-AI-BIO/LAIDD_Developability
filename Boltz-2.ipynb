{
  "nbformat": 4,
  "nbformat_minor": 0,
  "metadata": {
    "colab": {
      "provenance": [],
      "gpuType": "T4",
      "include_colab_link": true
    },
    "kernelspec": {
      "name": "python3",
      "display_name": "Python 3"
    },
    "language_info": {
      "name": "python"
    },
    "accelerator": "GPU"
  },
  "cells": [
    {
      "cell_type": "markdown",
      "metadata": {
        "id": "view-in-github",
        "colab_type": "text"
      },
      "source": [
        "<a href=\"https://colab.research.google.com/github/JisungJang-AI-BIO/LAIDD_Developability/blob/main/Boltz-2.ipynb\" target=\"_parent\"><img src=\"https://colab.research.google.com/assets/colab-badge.svg\" alt=\"Open In Colab\"/></a>"
      ]
    },
    {
      "cell_type": "markdown",
      "source": [
        "## 1. 환경 설정: Boltz 및 의존성 패키지 설치\n",
        "\n",
        "`boltz==2.1.1`의 공식 요구사항(`pytorch-lightning==2.5.0`)과 호환되는 PyTorch 버전(`2.3.0`)을 명시하여 모든 패키지를 한 번에 설치합니다."
      ],
      "metadata": {
        "id": "intro_cell"
      }
    },
    {
      "cell_type": "code",
      "source": [
        "# 1단계: 기존 패키지를 모두 제거하여 깨끗한 상태를 보장합니다.\n",
        "print(\"에러 발생 시 기존 PyTorch 및 Boltz 관련 패키지를 제거합니다...\")\n",
        "#!pip uninstall torch torchvision torchaudio boltz -y -q\n",
        "\n",
        "# 모든 제약조건(boltz, torch==2.2.0 등)을 단일 명령어로 전달하여 한 번에 설치합니다.\n",
        "# --extra-index-url을 사용하여 PyPI와 PyTorch 서버를 모두 검색하도록 합니다.\n",
        "print(\"\\nBoltz와 호환되는 모든 패키지를 동시에 설치합니다...\")\n",
        "!pip install boltz torch==2.2.0 torchvision==0.17.0 torchaudio==2.2.0 --extra-index-url https://download.pytorch.org/whl/cu121 -q\n",
        "# 결과물 시각화 패키지\n",
        "!pip install py3Dmol -q\n",
        "# 설치된 버전을 최종 확인하여, torch가 의도한 대로 2.2.0으로 설치되었는지 검증합니다.\n",
        "print(\"\\n설치된 패키지 버전을 확인합니다.\")\n",
        "!pip show torch torchvision"
      ],
      "metadata": {
        "id": "install_cell",
        "colab": {
          "base_uri": "https://localhost:8080/"
        },
        "outputId": "72780dba-bd40-4cbe-8643-8d6dc14b171b"
      },
      "execution_count": 1,
      "outputs": [
        {
          "output_type": "stream",
          "name": "stdout",
          "text": [
            "에러 발생 시 기존 PyTorch 및 Boltz 관련 패키지를 제거합니다...\n",
            "\n",
            "Boltz와 호환되는 모든 패키지를 동시에 설치합니다...\n",
            "\u001b[2K     \u001b[90m━━━━━━━━━━━━━━━━━━━━━━━━━━━━━━━━━━━━━\u001b[0m \u001b[32m757.3/757.3 MB\u001b[0m \u001b[31m817.0 kB/s\u001b[0m eta \u001b[36m0:00:00\u001b[0m\n",
            "\u001b[2K     \u001b[90m━━━━━━━━━━━━━━━━━━━━━━━━━━━━━━━━━━━━━━━━\u001b[0m \u001b[32m7.0/7.0 MB\u001b[0m \u001b[31m60.9 MB/s\u001b[0m eta \u001b[36m0:00:00\u001b[0m\n",
            "\u001b[2K     \u001b[90m━━━━━━━━━━━━━━━━━━━━━━━━━━━━━━━━━━━━━━━━\u001b[0m \u001b[32m3.4/3.4 MB\u001b[0m \u001b[31m57.9 MB/s\u001b[0m eta \u001b[36m0:00:00\u001b[0m\n",
            "\u001b[2K     \u001b[90m━━━━━━━━━━━━━━━━━━━━━━━━━━━━━━━━━━━━━━━━\u001b[0m \u001b[32m23.7/23.7 MB\u001b[0m \u001b[31m53.9 MB/s\u001b[0m eta \u001b[36m0:00:00\u001b[0m\n",
            "\u001b[2K     \u001b[90m━━━━━━━━━━━━━━━━━━━━━━━━━━━━━━━━━━━━━━\u001b[0m \u001b[32m823.6/823.6 kB\u001b[0m \u001b[31m38.7 MB/s\u001b[0m eta \u001b[36m0:00:00\u001b[0m\n",
            "\u001b[2K     \u001b[90m━━━━━━━━━━━━━━━━━━━━━━━━━━━━━━━━━━━━━━━━\u001b[0m \u001b[32m14.1/14.1 MB\u001b[0m \u001b[31m66.3 MB/s\u001b[0m eta \u001b[36m0:00:00\u001b[0m\n",
            "\u001b[2K     \u001b[90m━━━━━━━━━━━━━━━━━━━━━━━━━━━━━━━━━━━━━━━\u001b[0m \u001b[32m731.7/731.7 MB\u001b[0m \u001b[31m1.9 MB/s\u001b[0m eta \u001b[36m0:00:00\u001b[0m\n",
            "\u001b[2K     \u001b[90m━━━━━━━━━━━━━━━━━━━━━━━━━━━━━━━━━━━━━━━\u001b[0m \u001b[32m410.6/410.6 MB\u001b[0m \u001b[31m5.1 MB/s\u001b[0m eta \u001b[36m0:00:00\u001b[0m\n",
            "\u001b[2K     \u001b[90m━━━━━━━━━━━━━━━━━━━━━━━━━━━━━━━━━━━━━━━\u001b[0m \u001b[32m121.6/121.6 MB\u001b[0m \u001b[31m7.5 MB/s\u001b[0m eta \u001b[36m0:00:00\u001b[0m\n",
            "\u001b[2K     \u001b[90m━━━━━━━━━━━━━━━━━━━━━━━━━━━━━━━━━━━━━━━━\u001b[0m \u001b[32m56.5/56.5 MB\u001b[0m \u001b[31m11.2 MB/s\u001b[0m eta \u001b[36m0:00:00\u001b[0m\n",
            "\u001b[2K     \u001b[90m━━━━━━━━━━━━━━━━━━━━━━━━━━━━━━━━━━━━━━━\u001b[0m \u001b[32m124.2/124.2 MB\u001b[0m \u001b[31m7.3 MB/s\u001b[0m eta \u001b[36m0:00:00\u001b[0m\n",
            "\u001b[2K     \u001b[90m━━━━━━━━━━━━━━━━━━━━━━━━━━━━━━━━━━━━━━━\u001b[0m \u001b[32m196.0/196.0 MB\u001b[0m \u001b[31m5.9 MB/s\u001b[0m eta \u001b[36m0:00:00\u001b[0m\n",
            "\u001b[2K     \u001b[90m━━━━━━━━━━━━━━━━━━━━━━━━━━━━━━━━━━━━━━━\u001b[0m \u001b[32m166.0/166.0 MB\u001b[0m \u001b[31m7.3 MB/s\u001b[0m eta \u001b[36m0:00:00\u001b[0m\n",
            "\u001b[2K     \u001b[90m━━━━━━━━━━━━━━━━━━━━━━━━━━━━━━━━━━━━━━━━\u001b[0m \u001b[32m99.1/99.1 kB\u001b[0m \u001b[31m9.1 MB/s\u001b[0m eta \u001b[36m0:00:00\u001b[0m\n",
            "\u001b[2K     \u001b[90m━━━━━━━━━━━━━━━━━━━━━━━━━━━━━━━━━━━━━━━\u001b[0m \u001b[32m167.9/167.9 MB\u001b[0m \u001b[31m8.3 MB/s\u001b[0m eta \u001b[36m0:00:00\u001b[0m\n",
            "\u001b[2K     \u001b[90m━━━━━━━━━━━━━━━━━━━━━━━━━━━━━━━━━━━━━━━━\u001b[0m \u001b[32m61.0/61.0 kB\u001b[0m \u001b[31m3.3 MB/s\u001b[0m eta \u001b[36m0:00:00\u001b[0m\n",
            "\u001b[2K     \u001b[90m━━━━━━━━━━━━━━━━━━━━━━━━━━━━━━━━━━━━━━\u001b[0m \u001b[32m266.3/266.3 kB\u001b[0m \u001b[31m11.0 MB/s\u001b[0m eta \u001b[36m0:00:00\u001b[0m\n",
            "\u001b[?25h  Installing build dependencies ... \u001b[?25l\u001b[?25hdone\n",
            "  Getting requirements to build wheel ... \u001b[?25l\u001b[?25hdone\n",
            "  Installing backend dependencies ... \u001b[?25l\u001b[?25hdone\n",
            "  Preparing metadata (pyproject.toml) ... \u001b[?25l\u001b[?25hdone\n",
            "\u001b[2K     \u001b[90m━━━━━━━━━━━━━━━━━━━━━━━━━━━━━━━━━━━━━━━\u001b[0m \u001b[32m114.4/114.4 kB\u001b[0m \u001b[31m9.9 MB/s\u001b[0m eta \u001b[36m0:00:00\u001b[0m\n",
            "\u001b[2K     \u001b[90m━━━━━━━━━━━━━━━━━━━━━━━━━━━━━━━━━━━━━━━━\u001b[0m \u001b[32m66.8/66.8 kB\u001b[0m \u001b[31m6.0 MB/s\u001b[0m eta \u001b[36m0:00:00\u001b[0m\n",
            "\u001b[?25h  Preparing metadata (setup.py) ... \u001b[?25l\u001b[?25hdone\n",
            "\u001b[2K     \u001b[90m━━━━━━━━━━━━━━━━━━━━━━━━━━━━━━━━━━━━━━━━\u001b[0m \u001b[32m60.6/60.6 kB\u001b[0m \u001b[31m4.7 MB/s\u001b[0m eta \u001b[36m0:00:00\u001b[0m\n",
            "\u001b[2K     \u001b[90m━━━━━━━━━━━━━━━━━━━━━━━━━━━━━━━━━━━━━━━━\u001b[0m \u001b[32m92.7/92.7 kB\u001b[0m \u001b[31m7.5 MB/s\u001b[0m eta \u001b[36m0:00:00\u001b[0m\n",
            "\u001b[2K     \u001b[90m━━━━━━━━━━━━━━━━━━━━━━━━━━━━━━━━━━━━━━\u001b[0m \u001b[32m391.5/391.5 kB\u001b[0m \u001b[31m23.9 MB/s\u001b[0m eta \u001b[36m0:00:00\u001b[0m\n",
            "\u001b[?25h  Preparing metadata (setup.py) ... \u001b[?25l\u001b[?25hdone\n",
            "\u001b[2K     \u001b[90m━━━━━━━━━━━━━━━━━━━━━━━━━━━━━━━━━━━━━━━━\u001b[0m \u001b[32m18.3/18.3 MB\u001b[0m \u001b[31m99.1 MB/s\u001b[0m eta \u001b[36m0:00:00\u001b[0m\n",
            "\u001b[2K   \u001b[90m━━━━━━━━━━━━━━━━━━━━━━━━━━━━━━━━━━━━━━━━\u001b[0m \u001b[32m138.5/138.5 kB\u001b[0m \u001b[31m11.1 MB/s\u001b[0m eta \u001b[36m0:00:00\u001b[0m\n",
            "\u001b[2K   \u001b[90m━━━━━━━━━━━━━━━━━━━━━━━━━━━━━━━━━━━━━━━━\u001b[0m \u001b[32m815.2/815.2 kB\u001b[0m \u001b[31m46.5 MB/s\u001b[0m eta \u001b[36m0:00:00\u001b[0m\n",
            "\u001b[2K   \u001b[90m━━━━━━━━━━━━━━━━━━━━━━━━━━━━━━━━━━━━━━━━\u001b[0m \u001b[32m3.2/3.2 MB\u001b[0m \u001b[31m91.7 MB/s\u001b[0m eta \u001b[36m0:00:00\u001b[0m\n",
            "\u001b[2K   \u001b[90m━━━━━━━━━━━━━━━━━━━━━━━━━━━━━━━━━━━━━━━━\u001b[0m \u001b[32m97.9/97.9 kB\u001b[0m \u001b[31m8.4 MB/s\u001b[0m eta \u001b[36m0:00:00\u001b[0m\n",
            "\u001b[2K   \u001b[90m━━━━━━━━━━━━━━━━━━━━━━━━━━━━━━━━━━━━━━━━\u001b[0m \u001b[32m152.8/152.8 kB\u001b[0m \u001b[31m12.8 MB/s\u001b[0m eta \u001b[36m0:00:00\u001b[0m\n",
            "\u001b[2K   \u001b[90m━━━━━━━━━━━━━━━━━━━━━━━━━━━━━━━━━━━━━━━━\u001b[0m \u001b[32m43.2/43.2 kB\u001b[0m \u001b[31m3.4 MB/s\u001b[0m eta \u001b[36m0:00:00\u001b[0m\n",
            "\u001b[2K   \u001b[90m━━━━━━━━━━━━━━━━━━━━━━━━━━━━━━━━━━━━━━━━\u001b[0m \u001b[32m103.0/103.0 kB\u001b[0m \u001b[31m9.3 MB/s\u001b[0m eta \u001b[36m0:00:00\u001b[0m\n",
            "\u001b[2K   \u001b[90m━━━━━━━━━━━━━━━━━━━━━━━━━━━━━━━━━━━━━━━━\u001b[0m \u001b[32m154.5/154.5 kB\u001b[0m \u001b[31m13.8 MB/s\u001b[0m eta \u001b[36m0:00:00\u001b[0m\n",
            "\u001b[2K   \u001b[90m━━━━━━━━━━━━━━━━━━━━━━━━━━━━━━━━━━━━━━━━\u001b[0m \u001b[32m92.2/92.2 kB\u001b[0m \u001b[31m8.5 MB/s\u001b[0m eta \u001b[36m0:00:00\u001b[0m\n",
            "\u001b[2K   \u001b[90m━━━━━━━━━━━━━━━━━━━━━━━━━━━━━━━━━━━━━━━━\u001b[0m \u001b[32m38.6/38.6 MB\u001b[0m \u001b[31m25.4 MB/s\u001b[0m eta \u001b[36m0:00:00\u001b[0m\n",
            "\u001b[2K   \u001b[90m━━━━━━━━━━━━━━━━━━━━━━━━━━━━━━━━━━━━━━━━\u001b[0m \u001b[32m16.1/16.1 MB\u001b[0m \u001b[31m91.3 MB/s\u001b[0m eta \u001b[36m0:00:00\u001b[0m\n",
            "\u001b[2K   \u001b[90m━━━━━━━━━━━━━━━━━━━━━━━━━━━━━━━━━━━━━━━━\u001b[0m \u001b[32m34.9/34.9 MB\u001b[0m \u001b[31m27.1 MB/s\u001b[0m eta \u001b[36m0:00:00\u001b[0m\n",
            "\u001b[2K   \u001b[90m━━━━━━━━━━━━━━━━━━━━━━━━━━━━━━━━━━━━━━━━\u001b[0m \u001b[32m963.5/963.5 kB\u001b[0m \u001b[31m57.3 MB/s\u001b[0m eta \u001b[36m0:00:00\u001b[0m\n",
            "\u001b[?25h  Building wheel for fairscale (pyproject.toml) ... \u001b[?25l\u001b[?25hdone\n",
            "  Building wheel for modelcif (setup.py) ... \u001b[?25l\u001b[?25hdone\n",
            "  Building wheel for ihm (setup.py) ... \u001b[?25l\u001b[?25hdone\n",
            "\u001b[31mERROR: pip's dependency resolver does not currently take into account all the packages that are installed. This behaviour is the source of the following dependency conflicts.\n",
            "tsfresh 0.21.0 requires scipy>=1.14.0; python_version >= \"3.10\", but you have scipy 1.13.1 which is incompatible.\n",
            "thinc 8.3.6 requires numpy<3.0.0,>=2.0.0, but you have numpy 1.26.3 which is incompatible.\u001b[0m\u001b[31m\n",
            "\u001b[0m\n",
            "설치된 패키지 버전을 확인합니다.\n",
            "Name: torch\n",
            "Version: 2.2.0+cu121\n",
            "Summary: Tensors and Dynamic neural networks in Python with strong GPU acceleration\n",
            "Home-page: https://pytorch.org/\n",
            "Author: PyTorch Team\n",
            "Author-email: packages@pytorch.org\n",
            "License: BSD-3\n",
            "Location: /usr/local/lib/python3.11/dist-packages\n",
            "Requires: filelock, fsspec, jinja2, networkx, nvidia-cublas-cu12, nvidia-cuda-cupti-cu12, nvidia-cuda-nvrtc-cu12, nvidia-cuda-runtime-cu12, nvidia-cudnn-cu12, nvidia-cufft-cu12, nvidia-curand-cu12, nvidia-cusolver-cu12, nvidia-cusparse-cu12, nvidia-nccl-cu12, nvidia-nvtx-cu12, sympy, triton, typing-extensions\n",
            "Required-by: accelerate, boltz, fairscale, fastai, peft, pytorch-lightning, sentence-transformers, timm, torchaudio, torchdata, torchmetrics, torchvision\n",
            "---\n",
            "Name: torchvision\n",
            "Version: 0.17.0+cu121\n",
            "Summary: image and video datasets and models for torch deep learning\n",
            "Home-page: https://github.com/pytorch/vision\n",
            "Author: PyTorch Core Team\n",
            "Author-email: soumith@pytorch.org\n",
            "License: BSD\n",
            "Location: /usr/local/lib/python3.11/dist-packages\n",
            "Requires: numpy, pillow, requests, torch\n",
            "Required-by: fastai, timm\n"
          ]
        }
      ]
    },
    {
      "cell_type": "markdown",
      "source": [
        "---"
      ],
      "metadata": {
        "id": "divider_1"
      }
    },
    {
      "cell_type": "markdown",
      "source": [
        "## 2. Trastuzumab Fab 단편 구조 예측 (실행 예제)\n",
        "\n",
        "항원 없이 Trastuzumab 항체의 가변 영역(VH, VL)만으로 Fab 구조를 예측합니다. Colab 환경에서 정상적으로 실행됩니다."
      ],
      "metadata": {
        "id": "fab_only_intro"
      }
    },
    {
      "cell_type": "code",
      "source": [
        "import yaml\n",
        "import datetime\n",
        "import os\n",
        "import glob\n",
        "import py3Dmol\n",
        "\n",
        "# 입력 데이터: Trastuzumab Fab (VH, VL)\n",
        "heavy_chain_sequence = \"EVQLVESGGGLVQPGGSLRLSCAASGFNIKDTYIHWVRQAPGKGLEWVARIYPTNGYTRYADSVKGRFTISADTSKNTAYLQMNSLRAEDTAVYYCSRWGGDGFYAMDYWGQGTLVTVSS\"\n",
        "light_chain_sequence = \"DIQMTQSPSSLSASVGDRVTITCRASQDVNTAVAWYQQKPGKAPKLLIYSASFLYSGVPSRFSGSRSGTDFTLTISSLQPEDFATYYCQQHYTTPPTFGQGTKVEIK\"\n",
        "output_name = \"Trastuzumab_Fab_prediction\"\n",
        "\n",
        "# YAML 파일 생성\n",
        "input_data = {\n",
        "    'sequences': [\n",
        "        {'protein': {'id': 'H', 'sequence': heavy_chain_sequence}},\n",
        "        {'protein': {'id': 'L', 'sequence': light_chain_sequence}}\n",
        "    ],\n",
        "    'name': output_name\n",
        "}\n",
        "yaml_path = f\"{output_name}.yaml\"\n",
        "with open(yaml_path, 'w') as f:\n",
        "    yaml.dump(input_data, f, indent=2, sort_keys=False)\n",
        "print(f\"✅ YAML 파일 생성 완료: {yaml_path}\")\n",
        "\n",
        "# Boltz 예측 실행\n",
        "timestamp = datetime.datetime.now().strftime('%Y%m%d_%H%M%S')\n",
        "output_dir = f\"boltz_run_{timestamp}\"\n",
        "print(f\"✅ 결과 저장 폴더: {output_dir}\")\n",
        "print(\"\\nBoltz-2 예측을 시작합니다...\")\n",
        "!boltz predict {yaml_path} --output_format mmcif --out_dir {output_dir} --use_msa_server\n",
        "print(\"\\n--- 예측 프로세스 완료 ---\")\n",
        "\n",
        "# 결과 시각화\n",
        "print(\"\\n결과 시각화를 시작합니다...\")\n",
        "mmcif_files = glob.glob(os.path.join(output_dir, '**', '*.cif'), recursive=True)\n",
        "try:\n",
        "    if not mmcif_files:\n",
        "        raise FileNotFoundError(f\"'{output_dir}' 폴더에서 .cif 파일을 찾을 수 없습니다.\")\n",
        "    mmcif_files.sort()\n",
        "    mmcif_file_path = mmcif_files[0]\n",
        "    print(f\"✅ 발견된 mmcif 파일: {mmcif_file_path}\")\n",
        "    with open(mmcif_file_path, 'r') as f:\n",
        "        mmcif_data = f.read()\n",
        "    view = py3Dmol.view(width=800, height=600)\n",
        "    view.addModel(mmcif_data, \"mmcif\")\n",
        "    view.setStyle({'chain':'H'}, {'cartoon': {'color':'blue'}})\n",
        "    view.setStyle({'chain':'L'}, {'cartoon': {'color':'red'}})\n",
        "    view.zoomTo()\n",
        "    view.show()\n",
        "except FileNotFoundError as e:\n",
        "    print(f\"오류: {e}\")\n",
        "except Exception as e:\n",
        "    print(f\"시각화 중 오류가 발생했습니다: {e}\")"
      ],
      "metadata": {
        "id": "fab_only_code",
        "colab": {
          "base_uri": "https://localhost:8080/"
        },
        "outputId": "167be8de-abab-4626-9991-045fdebf2008"
      },
      "execution_count": null,
      "outputs": [
        {
          "output_type": "stream",
          "name": "stdout",
          "text": [
            "✅ YAML 파일 생성 완료: Trastuzumab_Fab_prediction.yaml\n",
            "✅ 결과 저장 폴더: boltz_run_20250706_011533\n",
            "\n",
            "Boltz-2 예측을 시작합니다...\n"
          ]
        }
      ]
    },
    {
      "cell_type": "markdown",
      "source": [
        "---"
      ],
      "metadata": {
        "id": "divider_2"
      }
    },
    {
      "cell_type": "markdown",
      "source": [
        "## 3. (참고) Trastuzumab - HER2 항원 결합 구조 예측\n",
        "\n",
        "⚠️ **경고**: 이 예제는 항원의 크기가 매우 커서, 일반 Colab GPU 환경에서는 **메모리 부족(Out of Memory)으로 실패할 가능성이 매우 높습니다.** 더 높은 사양의 GPU 환경에서 테스트하거나 참고용으로만 활용하는 것을 권장합니다."
      ],
      "metadata": {
        "id": "her2_intro"
      }
    },
    {
      "cell_type": "code",
      "source": [
        "import yaml\n",
        "import datetime\n",
        "import os\n",
        "import glob\n",
        "import py3Dmol\n",
        "\n",
        "# 입력 데이터: Trastuzumab(VH, VL)과 HER2 항원\n",
        "heavy_chain_sequence_orig = \"EVQLVESGGGLVQPGGSLRLSCAASGFNIKDTYIHWVRQAPGKGLEWVARIYPTNGYTRYADSVKGRFTISADTSKNTAYLQMNSLRAEDTAVYYCSRWGGDGFYAMDYWGQGTLVTVSS\"\n",
        "light_chain_sequence_orig = \"DIQMTQSPSSLSASVGDRVTITCRASQDVNTAVAWYQQKPGKAPKLLIYSASFLYSGVPSRFSGSRSGTDFTLTISSLQPEDFATYYCQQHYTTPPTFGQGTKVEIK\"\n",
        "antigen_sequence_orig = \"TQVCTGTDMKLRLPASPETHLDMLRHLYQGCQVVQGNLELTYLPTNASLSFLQDIQEVQGYVLIAHNQVRQVPLQRLRIVRGTQLFEDNYALAVLDNGDPLNNTTPVTGASPGGLRELQLRSLTEILKGGVLIQRNPQLCYQDTILWKDIFHKNNQLALTLIDTNRSRACHPCSPMCKGSRCWGESSEDCQSLTRTVCAGGCARCKGPLPTDCCHEQCAAGCTGPKHSDCLACLHFNHSGICELHCPALVTYNTDTFESMPNPEGRYTFGASCVTACPYNYLSTDVGSCTLVCPLHNQEVTAEDGTQRCEKCSKPCARVCYGLGMEHLREVRAVTSANIQEFAGCKKIFGSLAFLPESFDGDPASNTAPLQPEQLQVFETLEEITGYLYISAWPDSLPDLSVFQNLQVIRGRILHNGAYSLTLQGLGISWLGLRSLRELGSGLALIHHNTHLCFVHTVPWDQLFRNPHQALLHTANRPEDECVGEGLACHQLCARGHCWGPGPTQCVNCSQFLRGQECVEECRVLQGLPREYVNARHCLPCHPECQPQNGSVTCFGPEADQCVACAHYKDPPFCVARCPSGVKPDLSYMPIWKFPDEEGACQPCPINCTHSCVDLDDKGCPAEQRASPLT\"\n",
        "output_name_orig = \"Trastuzumab_HER2_binding_prediction\"\n",
        "\n",
        "# YAML 파일 생성\n",
        "input_data_orig = {\n",
        "    'sequences': [\n",
        "        {'protein': {'id': 'H', 'sequence': heavy_chain_sequence_orig}},\n",
        "        {'protein': {'id': 'L', 'sequence': light_chain_sequence_orig}},\n",
        "        {'protein': {'id': 'A', 'sequence': antigen_sequence_orig}}\n",
        "    ],\n",
        "    'name': output_name_orig\n",
        "}\n",
        "yaml_path_orig = f\"{output_name_orig}.yaml\"\n",
        "with open(yaml_path_orig, 'w') as f:\n",
        "    yaml.dump(input_data_orig, f, indent=2, sort_keys=False)\n",
        "print(f\"✅ YAML 파일 생성 완료: {yaml_path_orig}\")\n",
        "\n",
        "# Boltz 예측 실행\n",
        "timestamp_orig = datetime.datetime.now().strftime('%Y%m%d_%H%M%S')\n",
        "output_dir_orig = f\"boltz_run_{timestamp_orig}\"\n",
        "print(f\"✅ 결과 저장 폴더: {output_dir_orig}\")\n",
        "print(\"\\nBoltz-2 예측을 시작합니다...\")\n",
        "!boltz predict {yaml_path_orig} --use_msa_server --output_format mmcif --out_dir {output_dir_orig}\n",
        "print(\"\\n--- 예측 프로세스 완료 ---\")\n",
        "\n",
        "# 결과 시각화\n",
        "print(\"\\n결과 시각화를 시작합니다...\")\n",
        "mmcif_files_orig = glob.glob(os.path.join(output_dir_orig, '**', '*.mmcif'), recursive=True)\n",
        "try:\n",
        "    if not mmcif_files_orig:\n",
        "        raise FileNotFoundError(f\"'{output_dir_orig}' 폴더에서 .mmcif 파일을 찾을 수 없습니다.\")\n",
        "    mmcif_files_orig.sort()\n",
        "    mmcif_file_path_orig = mmcif_files_orig[0]\n",
        "    print(f\"✅ 발견된 mmcif 파일: {mmcif_file_path_orig}\")\n",
        "    with open(mmcif_file_path_orig, 'r') as f:\n",
        "        mmcif_data_orig = f.read()\n",
        "    view = py3Dmol.view(width=800, height=600)\n",
        "    view.addModel(mmcif_data_orig, \"mmcif\")\n",
        "    view.setStyle({'chain':'H'}, {'cartoon': {'color':'blue'}})\n",
        "    view.setStyle({'chain':'L'}, {'cartoon': {'color':'green'}})\n",
        "    view.setStyle({'chain':'A'}, {'cartoon': {'color':'red'}})\n",
        "    view.zoomTo()\n",
        "    view.show()\n",
        "except FileNotFoundError as e:\n",
        "    print(f\"오류: {e}\")\n",
        "except Exception as e:\n",
        "    print(f\"시각화 중 오류가 발생했습니다: {e}\")"
      ],
      "metadata": {
        "id": "her2_code"
      },
      "execution_count": null,
      "outputs": []
    },
    {
      "cell_type": "markdown",
      "source": [
        "## 4. (참고) 단백질-리간드 결합 친화도(Binding Affinity) 예측 통합 코드\n",
        "\n",
        "boltz-2는 단백질-단백질 상호작용뿐만 아니라, 단백질과 저분자 화합물(ligand) 간의 결합 친화도(binding affinity) 예측도 지원합니다.\n",
        "\n",
        "결합 친화도 예측은 구조 예측과 몇 가지 중요한 차이점이 있습니다.\n",
        "\n",
        "리간드(Ligand) 입력: 아미노산 서열 대신, 화합물의 구조를 나타내는 SMILES 문자열을 사용합니다.\n",
        "\n",
        "YAML 파일 구조: 어떤 작업을 수행할지 알려주기 위해 properties 섹션에 affinity 항목을 추가해야 합니다.\n",
        "\n",
        "결과: 3D 구조 대신, 결합의 강도를 나타내는 score를 출력합니다.\n",
        "\n",
        "아래는 Carbonic Anhydrase II와 그 저해제인 Acetazolamide를 사용하여 결합 친화도를 예측하는 전체 코드입니다.\n"
      ],
      "metadata": {
        "id": "i7WsU7ohvEOv"
      }
    },
    {
      "cell_type": "code",
      "source": [
        "import yaml\n",
        "import datetime\n",
        "import os\n",
        "import glob\n",
        "import json\n",
        "\n",
        "# 1. 입력 데이터 정의: 단백질 서열과 리간드의 SMILES 문자열을 정의합니다.\n",
        "# ---------------------------------------------------------------------------------\n",
        "# 단백질: Human Carbonic Anhydrase II (260 아미노산)\n",
        "protein_sequence = \"MSHHWGYGKHNGPEHWHKDFPIAKGERQSPVDIDTHTAKYDPSLKPLSVSYDQATSLRILNNGHAFNVEFDDSQDKAVLKGGPLDGTYRLIQFHFHWGSLDGQGSEHTVDKKKYAAELHLVHWNTKYGDFGTAAQQPDGLAVVGVFLKVGDANPALQKVLDALDSIKTKGKSTDFPNFDPGSLLPNVLDYWTYPGSLTTPPLLECVTWIVLKEPISVSSEQVLKFRKLNFNGEGEPEELMVDNWRPAQPLKNRQIKASFK\"\n",
        "\n",
        "# 리간드: Acetazolamide (저해제)\n",
        "ligand_smiles = \"CC(=O)NC1=NN=C(S1)S(=O)(=O)N\"\n",
        "\n",
        "# 새로운 출력 파일 이름\n",
        "output_name = \"CarbonicAnhydrase_Affinity_prediction\"\n",
        "\n",
        "\n",
        "# 2. YAML 파일 생성: 'ligand' 타입과 'properties' 섹션을 추가합니다.\n",
        "# ---------------------------------------------------------------------------------\n",
        "input_data = {\n",
        "    'sequences': [\n",
        "        {\n",
        "            'protein': {\n",
        "                'id': 'A',\n",
        "                'sequence': protein_sequence\n",
        "            }\n",
        "        },\n",
        "        {\n",
        "            'ligand': {\n",
        "                'id': 'B',\n",
        "                'smiles': ligand_smiles\n",
        "            }\n",
        "        }\n",
        "    ],\n",
        "    # affinity 예측을 수행하도록 지정\n",
        "    'properties': [\n",
        "        {\n",
        "            'affinity': {\n",
        "                'binder': 'B' # 리간드의 id를 지정\n",
        "            }\n",
        "        }\n",
        "    ],\n",
        "    'name': output_name\n",
        "}\n",
        "\n",
        "yaml_path = f\"{output_name}.yaml\"\n",
        "with open(yaml_path, 'w') as f:\n",
        "    yaml.dump(input_data, f, indent=2, sort_keys=False)\n",
        "\n",
        "print(f\"✅ 결합 친화도 예측용 YAML 파일 생성 완료: {yaml_path}\")\n",
        "\n",
        "\n",
        "# 3. Boltz 예측 실행\n",
        "# ---------------------------------------------------------------------------------\n",
        "timestamp = datetime.datetime.now().strftime('%Y%m%d_%H%M%S')\n",
        "output_dir = f\"boltz_run_{timestamp}\"\n",
        "\n",
        "print(f\"✅ 결과가 저장될 폴더: {output_dir}\")\n",
        "print(\"\\nBoltz-2 결합 친화도 예측을 시작합니다...\")\n",
        "\n",
        "# affinity 예측 시에는 MSA 서버 옵션이 필요 없습니다.\n",
        "!boltz predict {yaml_path} \\\n",
        "    --output_format pdb \\\n",
        "    --out_dir {output_dir}\n",
        "\n",
        "print(\"\\n--- 예측 프로세스 완료 ---\")\n",
        "\n",
        "\n",
        "# 4. 결과 확인: 예측된 결합 친화도 점수 읽어오기\n",
        "# ---------------------------------------------------------------------------------\n",
        "print(\"\\n예측된 결합 친화도 점수를 확인합니다...\")\n",
        "\n",
        "try:\n",
        "    manifest_path = os.path.join(output_dir, 'manifest.json')\n",
        "    with open(manifest_path, 'r') as f:\n",
        "        results = json.load(f)\n",
        "\n",
        "    # manifest.json 파일에서 affinity 점수를 추출하여 출력\n",
        "    affinity_score = results[0]['properties']['affinity']['score']\n",
        "\n",
        "    print(\"\\n\" + \"=\"*40)\n",
        "    print(f\"✅ 예측된 결합 친화도 점수: {affinity_score}\")\n",
        "    print(\"=\"*40)\n",
        "    print(\"\\n(참고: 점수가 낮을수록 더 강한 결합을 의미합니다.)\")\n",
        "\n",
        "except FileNotFoundError:\n",
        "    print(f\"오류: 결과 파일(manifest.json)을 '{output_dir}' 폴더에서 찾을 수 없습니다.\")\n",
        "except (KeyError, IndexError):\n",
        "    print(\"오류: 결과 파일에서 친화도 점수를 찾는 데 실패했습니다. 예측이 정상적으로 완료되었는지 확인해주세요.\")\n",
        "except Exception as e:\n",
        "    print(f\"결과를 읽는 중 오류가 발생했습니다: {e}\")"
      ],
      "metadata": {
        "id": "jmte88xXu_MK"
      },
      "execution_count": null,
      "outputs": []
    }
  ]
}