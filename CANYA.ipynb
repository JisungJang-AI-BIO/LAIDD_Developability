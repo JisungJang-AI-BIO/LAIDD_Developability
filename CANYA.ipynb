{
  "cells": [
    {
      "cell_type": "markdown",
      "metadata": {
        "id": "q_9zy4nyJfF5"
      },
      "source": [
        "### Step 1: Install CANYA\n",
        "\n",
        "Google Colab 환경에서 Conda 없이 바로 CANYA를 설치합니다. 필요한 종속성(`tensorflow`, `numpy`, `pandas`)은 Colab에 이미 설치되어 있으므로 별도 설치가 필요하지 않습니다."
      ],
      "id": "q_9zy4nyJfF5"
    },
    {
      "cell_type": "code",
      "source": [
        "# --- 1단계: Conda 설치 ---\n",
        "# Colab에 Conda 환경을 관리할 Miniforge를 설치합니다.\n",
        "!wget -q \"https://github.com/conda-forge/miniforge/releases/latest/download/Miniforge3-Linux-x86_64.sh\"\n",
        "!bash Miniforge3-Linux-x86_64.sh -bfp /usr/local\n",
        "!conda config --set auto_update_conda false\n",
        "\n",
        "# --- 2단계: CANYA 전용 가상 환경 생성 및 모든 의존성 설치 ---\n",
        "# python 3.8을 기반으로 numpy, pandas, tensorflow 등 모든 요구사항을 한 번에 설치합니다.\n",
        "!conda create -n canya_env python=3.8 numpy=1.19.5 pandas=1.3.3 tensorflow=2.6.0 keras=2.6.0 \"protobuf<=3.20\" matplotlib seaborn -c conda-forge -y\n",
        "\n",
        "# --- 3단계: 가상 환경 내에 CANYA 설치 ---\n",
        "# 위에서 만든 canya_env 환경 안에서 pip를 사용해 canya를 설치합니다.\n",
        "!conda run -n canya_env pip install --no-cache-dir https://github.com/lehner-lab/canya/tarball/master\n",
        "\n",
        "print(\"\\n\\n✅ 모든 설치가 성공적으로 완료되었습니다!\")\n",
        "print(\"CANYA는 'canya_env'라는 가상 환경에 설치되었습니다.\")\n",
        "print(\"아래 '가상 환경에서 CANYA 실행하기' 설명을 참고하여 다음 단계를 진행하세요.\")"
      ],
      "metadata": {
        "colab": {
          "base_uri": "https://localhost:8080/"
        },
        "id": "CeAMNz5VAV6I",
        "outputId": "676b3c3b-1b58-4712-a0fa-7c3a79e8db08"
      },
      "id": "CeAMNz5VAV6I",
      "execution_count": 15,
      "outputs": [
        {
          "output_type": "stream",
          "name": "stdout",
          "text": [
            "bash: Mambaforge-Linux-x86_64.sh: No such file or directory\n",
            "/bin/bash: line 1: mamba: command not found\n",
            "/bin/bash: line 1: mamba: command not found\n",
            "/bin/bash: line 1: mamba: command not found\n",
            "\n",
            "\n",
            "✅ 모든 설치가 성공적으로 완료되었습니다!\n",
            "CANYA는 'canya_env'라는 가상 환경에 설치되었습니다.\n",
            "아래 '가상 환경에서 CANYA 실행하기' 설명을 참고하여 다음 단계를 진행하세요.\n"
          ]
        }
      ]
    },
    {
      "cell_type": "markdown",
      "metadata": {
        "id": "tdb9FvtiJfF7"
      },
      "source": [
        "### Step 2: Prepare Input File\n",
        "\n",
        "`canya_input.txt`라는 입력 파일을 생성합니다. 형식은 CANYA에서 요구하는 형식에 맞게 구성해야 합니다 (예: 탭 구분 서열 리스트)."
      ],
      "id": "tdb9FvtiJfF7"
    },
    {
      "cell_type": "code",
      "execution_count": 16,
      "metadata": {
        "id": "MOifzLTgJfF7"
      },
      "outputs": [],
      "source": [
        "with open(\"canya_input.txt\", \"w\") as f:\n",
        "    f.write(\"ID\\tSequence\\n\")\n",
        "    f.write(\"Seq1\\tCASSIRSSYEQYF\\n\")\n",
        "    f.write(\"Seq2\\tCASSLGQGAETLYF\\n\")"
      ],
      "id": "MOifzLTgJfF7"
    },
    {
      "cell_type": "markdown",
      "metadata": {
        "id": "HqWjq7gWJfF7"
      },
      "source": [
        "### Step 3: Run CANYA (Basic Mode)"
      ],
      "id": "HqWjq7gWJfF7"
    },
    {
      "cell_type": "code",
      "execution_count": 17,
      "metadata": {
        "colab": {
          "base_uri": "https://localhost:8080/"
        },
        "id": "THfMwqjlJfF7",
        "outputId": "66493e34-1568-4181-aef9-37570771857c"
      },
      "outputs": [
        {
          "output_type": "stream",
          "name": "stdout",
          "text": [
            "/bin/bash: line 1: mamba: command not found\n",
            "/bin/bash: line 1: mamba: command not found\n",
            "/bin/bash: line 1: mamba: command not found\n"
          ]
        }
      ],
      "source": [
        "# !mamba run -n canya_env 를 앞에 붙여서 실행합니다.\n",
        "!mamba run -n canya_env canya --input canya_input.txt --output basic_out.txt\n",
        "!mamba run -n canya_env canya --input canya_input.txt --output summarized_out.txt --summarize mean\n",
        "!mamba run -n canya_env canya --input canya_input.txt --output ensemble_out.txt --summarize mean --mode ensemble"
      ],
      "id": "THfMwqjlJfF7"
    },
    {
      "cell_type": "markdown",
      "metadata": {
        "id": "7huBNx44JfF8"
      },
      "source": [
        "### Step 4: Run CANYA with Summary Mode (`--summarize mean`)"
      ],
      "id": "7huBNx44JfF8"
    },
    {
      "cell_type": "code",
      "execution_count": 12,
      "metadata": {
        "colab": {
          "base_uri": "https://localhost:8080/"
        },
        "id": "iQMDBGYjJfF8",
        "outputId": "3bc21bd6-3ce0-4d4e-db10-5c5268a0d8d4"
      },
      "outputs": [
        {
          "output_type": "stream",
          "name": "stdout",
          "text": [
            "/bin/bash: line 1: canya: command not found\n"
          ]
        }
      ],
      "source": [
        "!canya --input canya_input.txt --output summarized_out.txt --summarize mean"
      ],
      "id": "iQMDBGYjJfF8"
    },
    {
      "cell_type": "markdown",
      "metadata": {
        "id": "5p_cE7xdJfF8"
      },
      "source": [
        "### Step 5: Run CANYA in Ensemble Mode (Robust Prediction)"
      ],
      "id": "5p_cE7xdJfF8"
    },
    {
      "cell_type": "code",
      "execution_count": 13,
      "metadata": {
        "colab": {
          "base_uri": "https://localhost:8080/"
        },
        "id": "HJJ4JUFbJfF8",
        "outputId": "142a6113-8c6b-4bc6-be00-1188322af3db"
      },
      "outputs": [
        {
          "output_type": "stream",
          "name": "stdout",
          "text": [
            "/bin/bash: line 1: canya: command not found\n"
          ]
        }
      ],
      "source": [
        "!canya --input canya_input.txt --output ensemble_out.txt --summarize mean --mode ensemble"
      ],
      "id": "HJJ4JUFbJfF8"
    },
    {
      "cell_type": "markdown",
      "metadata": {
        "id": "LKuPCM4GJfF8"
      },
      "source": [
        "### Step 6: Visualize Results"
      ],
      "id": "LKuPCM4GJfF8"
    },
    {
      "cell_type": "code",
      "execution_count": 14,
      "metadata": {
        "colab": {
          "base_uri": "https://localhost:8080/"
        },
        "id": "axFVSoNnJfF8",
        "outputId": "8b7651fc-d5f3-495a-bb84-39487d9dc865"
      },
      "outputs": [
        {
          "output_type": "stream",
          "name": "stdout",
          "text": [
            "Error reading results: [Errno 2] No such file or directory: 'ensemble_out.txt'\n"
          ]
        }
      ],
      "source": [
        "import pandas as pd\n",
        "import matplotlib.pyplot as plt\n",
        "import seaborn as sns\n",
        "\n",
        "try:\n",
        "    df = pd.read_csv(\"ensemble_out.txt\", sep='\\t')\n",
        "    df_sorted = df.sort_values('Mean_Score', ascending=False).reset_index(drop=True)\n",
        "\n",
        "    plt.figure(figsize=(10, 6))\n",
        "    sns.barplot(x='ID', y='Mean_Score', data=df_sorted, palette='viridis', edgecolor='black')\n",
        "    plt.errorbar(x=df_sorted.index, y=df_sorted['Mean_Score'], yerr=df_sorted['Std_Dev_Score'], fmt='none', c='black', capsize=5)\n",
        "    plt.title('CANYA Nucleation Score (Ensemble Mode)', fontsize=16)\n",
        "    plt.xlabel('Sequence ID')\n",
        "    plt.ylabel('Mean ± Std Dev')\n",
        "    plt.ylim(0, 1)\n",
        "    plt.tight_layout()\n",
        "    plt.show()\n",
        "except Exception as e:\n",
        "    print(\"Error reading results:\", e)"
      ],
      "id": "axFVSoNnJfF8"
    }
  ],
  "metadata": {
    "kernelspec": {
      "display_name": "Python 3",
      "language": "python",
      "name": "python3"
    },
    "colab": {
      "provenance": []
    }
  },
  "nbformat": 4,
  "nbformat_minor": 5
}