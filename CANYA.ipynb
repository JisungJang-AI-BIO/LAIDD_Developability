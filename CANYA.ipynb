{
 "cells":
  },
  {
   "cell_type": "markdown",
   "metadata": {},
   "source": [
    "### 1단계: Colab 환경 설정\n",
    "\n",
    "의존성 충돌을 피하고 재현 가능한 분석 환경을 구축하기 위해, Conda를 사용하여 격리된 가상 환경을 만드는 것이 가장 좋은 방법입니다. `condacolab` 라이브러리를 사용하면 Colab 노트북에서 Conda를 쉽게 사용할 수 있습니다.\n",
    "\n",
    "먼저 `condacolab`을 설치하고 초기화합니다. **이 셀을 실행하면 런타임이 자동으로 다시 시작됩니다.**"
   ]
  },
  {
   "cell_type": "code",
   "execution_count": null,
   "metadata": {},
   "outputs":,
   "source": [
    "# condacolab 설치\n",
    "!pip install -q condacolab\n",
    "import condacolab\n",
    "condacolab.install()"
   ]
  },
  {
   "cell_type": "markdown",
   "metadata": {},
   "source":
  },
  {
   "cell_type": "code",
   "execution_count": null,
   "metadata": {},
   "outputs":,
   "source": [
    "%%bash\n",
    "# canyaenv라는 이름의 새로운 conda 환경 생성\n",
    "conda create -n canyaenv python=3.9 -y"
   ]
  },
  {
   "cell_type": "markdown",
   "metadata": {},
   "source": [
    "### 2단계: CANYA 설치\n",
    "\n",
    "이제 생성된 `canyaenv` 환경에 CANYA를 설치합니다. Lehner 연구소의 GitHub 저장소에서 직접 `pip`을 사용하여 설치하는 것이 권장됩니다. `--no-cache-dir` 플래그는 캐시 관련 문제를 방지하기 위해 사용됩니다.\n",
    "\n",
    "**참고:** 각 `%%bash` 셀은 독립적인 셸 세션이므로, CANYA를 실행하는 모든 셀에서 `conda activate canyaenv`를 먼저 실행해야 합니다."
   ]
  },
  {
   "cell_type": "code",
   "execution_count": null,
   "metadata": {},
   "outputs":,
   "source": [
    "%%bash\n",
    "conda activate canyaenv\n",
    "\n",
    "# pip을 사용하여 GitHub에서 CANYA 설치\n",
    "python -m pip install --no-cache-dir [https://github.com/lehner-lab/canya/tarball/master](https://github.com/lehner-lab/canya/tarball/master)"
   ]
  },
  {
   "cell_type": "markdown",
   "metadata": {},
   "source":
  },
  {
   "cell_type": "code",
   "execution_count": null,
   "metadata": {},
   "outputs":,
   "source":
  },
  {
   "cell_type": "markdown",
   "metadata": {},
   "source": [
    "### 4단계: 다양한 옵션으로 CANYA 실행하기\n",
    "\n",
    "이제 준비된 입력 파일을 사용하여 여러 가지 옵션으로 CANYA를 실행해 보겠습니다."
   ]
  },
  {
   "cell_type": "markdown",
   "metadata": {},
   "source": [
    "#### 4.1. 기본 실행\n",
    "\n",
    "이 실행은 각 서열에 대해 20개 아미노산 길이의 모든 창(window)에 대한 CANYA 점수를 보고합니다. 길이가 20 미만인 우리 예제에서는 각 서열에 대해 단일 점수가 계산됩니다."
   ]
  },
  {
   "cell_type": "code",
   "execution_count": null,
   "metadata": {},
   "outputs":,
   "source": [
    "%%bash\n",
    "conda activate canyaenv\n",
    "\n",
    "# 기본 옵션으로 CANYA 실행\n",
    "canya --input canya_input.txt --output basic_out.txt"
   ]
  },
  {
   "cell_type": "markdown",
   "metadata": {},
   "source": [
    "#### 4.2. 요약 실행\n",
    "\n",
    "`--summarize` 옵션은 길이가 20을 초과하는 서열에 대해 여러 창의 점수들을 하나의 대표값으로 요약할 때 유용합니다. 여기서는 `mean` 옵션을 사용하여 각 서열의 평균 점수를 얻습니다."
   ]
  },
  {
   "cell_type": "code",
   "execution_count": null,
   "metadata": {},
   "outputs":,
   "source": [
    "%%bash\n",
    "conda activate canyaenv\n",
    "\n",
    "# --summarize mean 옵션으로 실행\n",
    "canya --input canya_input.txt --output summarized_out.txt --summarize mean"
   ]
  },
  {
   "cell_type": "markdown",
   "metadata": {},
   "source": [
    "#### 4.3. 앙상블 모드를 이용한 강건한 예측\n",
    "\n",
    "가장 신뢰도 높은 결과를 위해 `--mode ensemble` 옵션을 사용하는 것이 권장됩니다. 이 모드는 10개의 모델을 실행하여 평균과 표준편차를 모두 제공합니다."
   ]
  },
  {
   "cell_type": "code",
   "execution_count": null,
   "metadata": {},
   "outputs":,
   "source": [
    "%%bash\n",
    "conda activate canyaenv\n",
    "\n",
    "# --summarize mean과 --mode ensemble 옵션을 함께 사용하여 실행\n",
    "canya --input canya_input.txt --output ensemble_out.txt --summarize mean --mode ensemble"
   ]
  },
  {
   "cell_type": "markdown",
   "metadata": {},
   "source": [
    "### 5단계: 결과 검토 및 시각화\n",
    "\n",
    "이제 가장 포괄적인 결과인 `ensemble_out.txt` 파일의 내용을 검토하고 시각화해 보겠습니다. `pandas` 라이브러리를 사용하여 파일을 데이터프레임으로 읽어오면 편리합니다."
   ]
  },
  {
   "cell_type": "code",
   "execution_count": null,
   "metadata": {},
   "outputs":,
   "source":)\n",
    "    print(\"CANYA 실행 결과:\")\n",
    "    print(df_results)\n",
    "\n",
    "    # 시각화를 위해 점수 기준으로 데이터 정렬\n",
    "    df_sorted = df_results.sort_values('Mean_Score', ascending=False).reset_index(drop=True)\n",
    "\n",
    "    # 결과 시각화\n",
    "    plt.style.use('seaborn-v0_8-whitegrid')\n",
    "    fig, ax = plt.subplots(figsize=(10, 6))\n",
    "\n",
    "    sns.barplot(\n",
    "        x='ID',\n",
    "        y='Mean_Score',\n",
    "        data=df_sorted,\n",
    "        ax=ax,\n",
    "        palette='viridis',\n",
    "        edgecolor='black'\n",
    "    )\n",
    "\n",
    "    # 오차 막대(표준편차) 추가\n",
    "    ax.errorbar(\n",
    "        x=df_sorted.index,\n",
    "        y=df_sorted,\n",
    "        yerr=df_sorted,\n",
    "        fmt='none',\n",
    "        c='black',\n",
    "        capsize=5\n",
    "    )\n",
    "\n",
    "    ax.set_title('CANYA Nucleation Score for CDR-H3 Sequences (Ensemble Mode)', fontsize=16)\n",
    "    ax.set_xlabel('Sequence ID', fontsize=12)\n",
    "    ax.set_ylabel('Predicted Nucleation Score (Mean ± Std. Dev.)', fontsize=12)\n",
    "    ax.set_ylim(0, 1) # 점수 범위를 0에서 1로 설정\n",
    "    plt.xticks(rotation=0)\n",
    "    plt.tight_layout()\n",
    "    plt.show()\n",
    "\n",
    "except FileNotFoundError:\n",
    "    print(\"출력 파일 'ensemble_out.txt'을 찾을 수 없습니다. CANYA 실행이 올바르게 완료되었는지 확인하세요.\")\n",
    "except Exception as e:\n",
    "    print(f\"오류가 발생했습니다: {e}\")"
   ]
  },
  {
   "cell_type": "markdown",
   "metadata": {},
   "source":
  }
 ],
 "metadata": {
  "kernelspec": {
   "display_name": "Python 3",
   "language": "python",
   "name": "python3"
  },
  "language_info": {
   "codemirror_mode": {
    "name": "ipython",
    "version": 3
   },
   "file_extension": ".py",
   "mimetype": "text/x-python",
   "name": "python",
   "nbconvert_exporter": "python",
   "pygments_lexer": "ipython3",
   "version": "3.9.16"
  }
 },
 "nbformat": 4,
 "nbformat_minor": 5
}
