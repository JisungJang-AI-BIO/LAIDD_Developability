{
 "cells": [
  {
   "cell_type": "markdown",
   "metadata": {},
   "source": [
    "### 1단계: Colab 환경 설정\n",
    "\n",
    "의존성 충돌을 피하고 재현 가능한 분석 환경을 구축하기 위해 Conda를 사용하여 격리된 가상 환경을 만드는 것이 가장 좋은 방법입니다. `condacolab` 라이브러리를 사용하면 Colab 노트북에서 Conda를 쉽게 사용할 수 있습니다.\n",
    "\n",
    "먼저 `condacolab`을 설치하고 초기화합니다. **이 셀을 실행하면 런타임이 자동으로 다시 시작됩니다.**"
   ]
  },
  {
   "cell_type": "code",
   "execution_count": null,
   "metadata": {},
   "outputs": [],
   "source": [
    "!pip install -q condacolab\n",
    "import condacolab\n",
    "condacolab.install()"
   ]
  },
  {
   "cell_type": "markdown",
   "metadata": {},
   "source": [
    "### Conda 환경 생성"
   ]
  },
  {
   "cell_type": "code",
   "execution_count": null,
   "metadata": {},
   "outputs": [],
   "source": [
    "%%bash\n",
    "conda create -n canyaenv python=3.9 -y"
   ]
  },
  {
   "cell_type": "markdown",
   "metadata": {},
   "source": [
    "### 2단계: CANYA 설치\n",
    "\n",
    "`canyaenv` 환경에 CANYA를 설치합니다. Lehner 연구소 GitHub 저장소에서 pip로 설치합니다.\n",
    "\n",
    "**참고:** 각 `%%bash` 셀은 별도의 셸 세션이므로 항상 `conda activate canyaenv`가 필요합니다."
   ]
  },
  {
   "cell_type": "code",
   "execution_count": null,
   "metadata": {},
   "outputs": [],
   "source": [
    "%%bash\n",
    "source activate canyaenv\n",
    "python -m pip install --no-cache-dir https://github.com/lehner-lab/canya/tarball/master"
   ]
  },
  {
   "cell_type": "markdown",
   "metadata": {},
   "source": [
    "### 4단계: 다양한 옵션으로 CANYA 실행하기"
   ]
  },
  {
   "cell_type": "markdown",
   "metadata": {},
   "source": [
    "#### 4.1. 기본 실행"
   ]
  },
  {
   "cell_type": "code",
   "execution_count": null,
   "metadata": {},
   "outputs": [],
   "source": [
    "%%bash\n",
    "source activate canyaenv\n",
    "canya --input canya_input.txt --output basic_out.txt"
   ]
  },
  {
   "cell_type": "markdown",
   "metadata": {},
   "source": [
    "#### 4.2. 요약 실행 (`--summarize mean`)"
   ]
  },
  {
   "cell_type": "code",
   "execution_count": null,
   "metadata": {},
   "outputs": [],
   "source": [
    "%%bash\n",
    "source activate canyaenv\n",
    "canya --input canya_input.txt --output summarized_out.txt --summarize mean"
   ]
  },
  {
   "cell_type": "markdown",
   "metadata": {},
   "source": [
    "#### 4.3. 앙상블 모드 실행 (`--mode ensemble`)"
   ]
  },
  {
   "cell_type": "code",
   "execution_count": null,
   "metadata": {},
   "outputs": [],
   "source": [
    "%%bash\n",
    "source activate canyaenv\n",
    "canya --input canya_input.txt --output ensemble_out.txt --summarize mean --mode ensemble"
   ]
  },
  {
   "cell_type": "markdown",
   "metadata": {},
   "source": [
    "### 5단계: 결과 시각화"
   ]
  },
  {
   "cell_type": "code",
   "execution_count": null,
   "metadata": {},
   "outputs": [],
   "source": [
    "import pandas as pd\n",
    "import matplotlib.pyplot as plt\n",
    "import seaborn as sns\n",
    "\n",
    "try:\n",
    "    df_results = pd.read_csv('ensemble_out.txt', sep='\\t')\n",
    "    print(\"CANYA 실행 결과:\")\n",
    "    print(df_results)\n",
    "\n",
    "    df_sorted = df_results.sort_values('Mean_Score', ascending=False).reset_index(drop=True)\n",
    "    plt.style.use('seaborn-v0_8-whitegrid')\n",
    "    fig, ax = plt.subplots(figsize=(10, 6))\n",
    "\n",
    "    sns.barplot(\n",
    "        x='ID', y='Mean_Score', data=df_sorted,\n",
    "        ax=ax, palette='viridis', edgecolor='black'\n",
    "    )\n",
    "\n",
    "    ax.errorbar(\n",
    "        x=df_sorted.index,\n",
    "        y=df_sorted['Mean_Score'],\n",
    "        yerr=df_sorted['Std_Dev_Score'],\n",
    "        fmt='none', c='black', capsize=5\n",
    "    )\n",
    "\n",
    "    ax.set_title('CANYA Nucleation Score for CDR-H3 Sequences (Ensemble Mode)', fontsize=16)\n",
    "    ax.set_xlabel('Sequence ID', fontsize=12)\n",
    "    ax.set_ylabel('Predicted Nucleation Score (Mean ± Std. Dev.)', fontsize=12)\n",
    "    ax.set_ylim(0, 1)\n",
    "    plt.xticks(rotation=0)\n",
    "    plt.tight_layout()\n",
    "    plt.show()\n",
    "\n",
    "except FileNotFoundError:\n",
    "    print(\"출력 파일 'ensemble_out.txt'을 찾을 수 없습니다.\")\n",
    "except Exception as e:\n",
    "    print(f\"오류 발생: {e}\")"
   ]
  }
 ],
 "metadata": {
  "kernelspec": {
   "display_name": "Python 3",
   "language": "python",
   "name": "python3"
  }
 },
 "nbformat": 4,
 "nbformat_minor": 5
}
