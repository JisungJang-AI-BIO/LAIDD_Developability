{
  "cells": [
    {
      "cell_type": "markdown",
      "metadata": {
        "id": "q_9zy4nyJfF5"
      },
      "source": [
        "### Step 1: Install CANYA\n",
        "\n",
        "Google Colab 환경에서 Conda 없이 바로 CANYA를 설치합니다. 필요한 종속성(`tensorflow`, `numpy`, `pandas`)은 Colab에 이미 설치되어 있으므로 별도 설치가 필요하지 않습니다."
      ],
      "id": "q_9zy4nyJfF5"
    },
    {
      "cell_type": "code",
      "source": [
        "# 1. Python 3.9 및 관련 패키지 설치\n",
        "!sudo apt-get update -y\n",
        "!sudo apt-get install python3.9 python3.9-distutils\n",
        "\n",
        "# 2. update-alternatives를 사용해 Python 3.9를 기본으로 설정\n",
        "!sudo update-alternatives --install /usr/bin/python3 python3 /usr/bin/python3.9 1\n",
        "\n",
        "# 3. Python 3.9용 pip 설치\n",
        "!curl -sS https://bootstrap.pypa.io/get-pip.py | python3.9\n",
        "\n",
        "# 4. 버전 확인\n",
        "!python3 --version"
      ],
      "metadata": {
        "id": "CeAMNz5VAV6I",
        "outputId": "dde57068-bb07-4ffd-c32b-49911fd2c989",
        "colab": {
          "base_uri": "https://localhost:8080/"
        }
      },
      "id": "CeAMNz5VAV6I",
      "execution_count": 1,
      "outputs": [
        {
          "output_type": "stream",
          "name": "stdout",
          "text": [
            "\r0% [Working]\r            \rGet:1 https://cloud.r-project.org/bin/linux/ubuntu jammy-cran40/ InRelease [3,632 B]\n",
            "\r0% [Waiting for headers] [Waiting for headers] [1 InRelease 3,632 B/3,632 B 100\r0% [Waiting for headers] [Waiting for headers] [Connected to r2u.stat.illinois.\r                                                                               \rHit:2 http://archive.ubuntu.com/ubuntu jammy InRelease\n",
            "\r0% [Waiting for headers] [Waiting for headers] [Connected to r2u.stat.illinois.\r                                                                               \rHit:3 https://developer.download.nvidia.com/compute/cuda/repos/ubuntu2204/x86_64  InRelease\n",
            "Get:4 http://archive.ubuntu.com/ubuntu jammy-updates InRelease [128 kB]\n",
            "Get:5 http://security.ubuntu.com/ubuntu jammy-security InRelease [129 kB]\n",
            "Get:6 https://r2u.stat.illinois.edu/ubuntu jammy InRelease [6,555 B]\n",
            "Get:7 http://archive.ubuntu.com/ubuntu jammy-backports InRelease [127 kB]\n",
            "Hit:8 https://ppa.launchpadcontent.net/deadsnakes/ppa/ubuntu jammy InRelease\n",
            "Get:9 https://r2u.stat.illinois.edu/ubuntu jammy/main amd64 Packages [2,758 kB]\n",
            "Get:10 http://archive.ubuntu.com/ubuntu jammy-updates/restricted amd64 Packages [4,963 kB]\n",
            "Hit:11 https://ppa.launchpadcontent.net/graphics-drivers/ppa/ubuntu jammy InRelease\n",
            "Hit:12 https://ppa.launchpadcontent.net/ubuntugis/ppa/ubuntu jammy InRelease\n",
            "Get:13 http://security.ubuntu.com/ubuntu jammy-security/universe amd64 Packages [1,266 kB]\n",
            "Get:14 https://r2u.stat.illinois.edu/ubuntu jammy/main all Packages [9,102 kB]\n",
            "Get:15 http://archive.ubuntu.com/ubuntu jammy-updates/main amd64 Packages [3,420 kB]\n",
            "Get:16 http://archive.ubuntu.com/ubuntu jammy-updates/universe amd64 Packages [1,569 kB]\n",
            "Get:17 http://security.ubuntu.com/ubuntu jammy-security/main amd64 Packages [3,103 kB]\n",
            "Fetched 26.6 MB in 3s (8,979 kB/s)\n",
            "Reading package lists... Done\n",
            "W: Skipping acquire of configured file 'main/source/Sources' as repository 'https://r2u.stat.illinois.edu/ubuntu jammy InRelease' does not seem to provide it (sources.list entry misspelt?)\n",
            "Reading package lists... Done\n",
            "Building dependency tree... Done\n",
            "Reading state information... Done\n",
            "The following additional packages will be installed:\n",
            "  libpython3.9-minimal libpython3.9-stdlib python3.9-lib2to3 python3.9-minimal\n",
            "Suggested packages:\n",
            "  python3.9-venv binfmt-support\n",
            "The following NEW packages will be installed:\n",
            "  libpython3.9-minimal libpython3.9-stdlib python3.9 python3.9-distutils\n",
            "  python3.9-lib2to3 python3.9-minimal\n",
            "0 upgraded, 6 newly installed, 0 to remove and 41 not upgraded.\n",
            "Need to get 5,166 kB of archives.\n",
            "After this operation, 20.2 MB of additional disk space will be used.\n",
            "Get:1 https://ppa.launchpadcontent.net/deadsnakes/ppa/ubuntu jammy/main amd64 libpython3.9-minimal amd64 3.9.23-1+jammy1 [837 kB]\n",
            "Get:2 https://ppa.launchpadcontent.net/deadsnakes/ppa/ubuntu jammy/main amd64 python3.9-minimal amd64 3.9.23-1+jammy1 [2,075 kB]\n",
            "Get:3 https://ppa.launchpadcontent.net/deadsnakes/ppa/ubuntu jammy/main amd64 libpython3.9-stdlib amd64 3.9.23-1+jammy1 [1,842 kB]\n",
            "Get:4 https://ppa.launchpadcontent.net/deadsnakes/ppa/ubuntu jammy/main amd64 python3.9 amd64 3.9.23-1+jammy1 [93.1 kB]\n",
            "Get:5 https://ppa.launchpadcontent.net/deadsnakes/ppa/ubuntu jammy/main amd64 python3.9-lib2to3 all 3.9.23-1+jammy1 [127 kB]\n",
            "Get:6 https://ppa.launchpadcontent.net/deadsnakes/ppa/ubuntu jammy/main amd64 python3.9-distutils all 3.9.23-1+jammy1 [193 kB]\n",
            "Fetched 5,166 kB in 2s (3,095 kB/s)\n",
            "debconf: unable to initialize frontend: Dialog\n",
            "debconf: (No usable dialog-like program is installed, so the dialog based frontend cannot be used. at /usr/share/perl5/Debconf/FrontEnd/Dialog.pm line 78, <> line 6.)\n",
            "debconf: falling back to frontend: Readline\n",
            "debconf: unable to initialize frontend: Readline\n",
            "debconf: (This frontend requires a controlling tty.)\n",
            "debconf: falling back to frontend: Teletype\n",
            "dpkg-preconfigure: unable to re-open stdin: \n",
            "Selecting previously unselected package libpython3.9-minimal:amd64.\n",
            "(Reading database ... 126281 files and directories currently installed.)\n",
            "Preparing to unpack .../0-libpython3.9-minimal_3.9.23-1+jammy1_amd64.deb ...\n",
            "Unpacking libpython3.9-minimal:amd64 (3.9.23-1+jammy1) ...\n",
            "Selecting previously unselected package python3.9-minimal.\n",
            "Preparing to unpack .../1-python3.9-minimal_3.9.23-1+jammy1_amd64.deb ...\n",
            "Unpacking python3.9-minimal (3.9.23-1+jammy1) ...\n",
            "Selecting previously unselected package libpython3.9-stdlib:amd64.\n",
            "Preparing to unpack .../2-libpython3.9-stdlib_3.9.23-1+jammy1_amd64.deb ...\n",
            "Unpacking libpython3.9-stdlib:amd64 (3.9.23-1+jammy1) ...\n",
            "Selecting previously unselected package python3.9.\n",
            "Preparing to unpack .../3-python3.9_3.9.23-1+jammy1_amd64.deb ...\n",
            "Unpacking python3.9 (3.9.23-1+jammy1) ...\n",
            "Selecting previously unselected package python3.9-lib2to3.\n",
            "Preparing to unpack .../4-python3.9-lib2to3_3.9.23-1+jammy1_all.deb ...\n",
            "Unpacking python3.9-lib2to3 (3.9.23-1+jammy1) ...\n",
            "Selecting previously unselected package python3.9-distutils.\n",
            "Preparing to unpack .../5-python3.9-distutils_3.9.23-1+jammy1_all.deb ...\n",
            "Unpacking python3.9-distutils (3.9.23-1+jammy1) ...\n",
            "Setting up libpython3.9-minimal:amd64 (3.9.23-1+jammy1) ...\n",
            "Setting up python3.9-lib2to3 (3.9.23-1+jammy1) ...\n",
            "Setting up python3.9-distutils (3.9.23-1+jammy1) ...\n",
            "Setting up python3.9-minimal (3.9.23-1+jammy1) ...\n",
            "Setting up libpython3.9-stdlib:amd64 (3.9.23-1+jammy1) ...\n",
            "Setting up python3.9 (3.9.23-1+jammy1) ...\n",
            "Processing triggers for mailcap (3.70+nmu1ubuntu1) ...\n",
            "Processing triggers for man-db (2.10.2-1) ...\n",
            "Collecting pip\n",
            "  Downloading pip-25.1.1-py3-none-any.whl.metadata (3.6 kB)\n",
            "Collecting setuptools\n",
            "  Downloading setuptools-80.9.0-py3-none-any.whl.metadata (6.6 kB)\n",
            "Collecting wheel\n",
            "  Downloading wheel-0.45.1-py3-none-any.whl.metadata (2.3 kB)\n",
            "Downloading pip-25.1.1-py3-none-any.whl (1.8 MB)\n",
            "\u001b[2K   \u001b[90m━━━━━━━━━━━━━━━━━━━━━━━━━━━━━━━━━━━━━━━━\u001b[0m \u001b[32m1.8/1.8 MB\u001b[0m \u001b[31m27.6 MB/s\u001b[0m eta \u001b[36m0:00:00\u001b[0m\n",
            "\u001b[?25hDownloading setuptools-80.9.0-py3-none-any.whl (1.2 MB)\n",
            "\u001b[2K   \u001b[90m━━━━━━━━━━━━━━━━━━━━━━━━━━━━━━━━━━━━━━━━\u001b[0m \u001b[32m1.2/1.2 MB\u001b[0m \u001b[31m56.0 MB/s\u001b[0m eta \u001b[36m0:00:00\u001b[0m\n",
            "\u001b[?25hDownloading wheel-0.45.1-py3-none-any.whl (72 kB)\n",
            "Installing collected packages: wheel, setuptools, pip\n",
            "\u001b[2K   \u001b[90m━━━━━━━━━━━━━━━━━━━━━━━━━━━━━━━━━━━━━━━━\u001b[0m \u001b[32m3/3\u001b[0m [pip]\n",
            "\u001b[1A\u001b[2KSuccessfully installed pip-25.1.1 setuptools-80.9.0 wheel-0.45.1\n",
            "Python 3.11.13\n"
          ]
        }
      ]
    },
    {
      "cell_type": "code",
      "execution_count": null,
      "metadata": {
        "id": "HErLa9kGJfF6",
        "outputId": "7e2a5752-55e6-4960-c224-94d58d983a34",
        "colab": {
          "base_uri": "https://localhost:8080/"
        }
      },
      "outputs": [
        {
          "output_type": "stream",
          "name": "stdout",
          "text": [
            "Collecting numpy==1.19.5\n",
            "  Downloading numpy-1.19.5.zip (7.3 MB)\n",
            "\u001b[2K     \u001b[90m━━━━━━━━━━━━━━━━━━━━━━━━━━━━━━━━━━━━━━━━\u001b[0m \u001b[32m7.3/7.3 MB\u001b[0m \u001b[31m30.5 MB/s\u001b[0m eta \u001b[36m0:00:00\u001b[0m\n",
            "\u001b[?25h"
          ]
        }
      ],
      "source": [
        "# 1. canya가 요구하는 오래된 버전의 핵심 패키지들을 먼저 설치합니다.\n",
        "# 이 버전들은 서로 호환성이 검증된 조합입니다.\n",
        "!python3 -m pip install numpy==1.19.5\n",
        "!python3 -m pip install pandas==1.3.3\n",
        "!python3 -m pip install tensorflow==2.5.0\n",
        "!python3 -m pip install scipy==1.7.1\n",
        "\n",
        "# 2. 이제 주요 의존성 문제가 해결되었으므로 canya를 설치합니다.\n",
        "# 이미 설치된 패키지는 건너뛰고 설치가 진행됩니다.\n",
        "!python3 -m pip install --no-cache-dir https://github.com/lehner-lab/canya/tarball/master"
      ],
      "id": "HErLa9kGJfF6"
    },
    {
      "cell_type": "markdown",
      "metadata": {
        "id": "tdb9FvtiJfF7"
      },
      "source": [
        "### Step 2: Prepare Input File\n",
        "\n",
        "`canya_input.txt`라는 입력 파일을 생성합니다. 형식은 CANYA에서 요구하는 형식에 맞게 구성해야 합니다 (예: 탭 구분 서열 리스트)."
      ],
      "id": "tdb9FvtiJfF7"
    },
    {
      "cell_type": "code",
      "execution_count": 3,
      "metadata": {
        "id": "MOifzLTgJfF7"
      },
      "outputs": [],
      "source": [
        "with open(\"canya_input.txt\", \"w\") as f:\n",
        "    f.write(\"ID\\tSequence\\n\")\n",
        "    f.write(\"Seq1\\tCASSIRSSYEQYF\\n\")\n",
        "    f.write(\"Seq2\\tCASSLGQGAETLYF\\n\")"
      ],
      "id": "MOifzLTgJfF7"
    },
    {
      "cell_type": "markdown",
      "metadata": {
        "id": "HqWjq7gWJfF7"
      },
      "source": [
        "### Step 3: Run CANYA (Basic Mode)"
      ],
      "id": "HqWjq7gWJfF7"
    },
    {
      "cell_type": "code",
      "execution_count": 4,
      "metadata": {
        "id": "THfMwqjlJfF7",
        "outputId": "bb3766af-9481-4e8e-bb96-d14da750659d",
        "colab": {
          "base_uri": "https://localhost:8080/"
        }
      },
      "outputs": [
        {
          "output_type": "stream",
          "name": "stdout",
          "text": [
            "/bin/bash: line 1: canya: command not found\n"
          ]
        }
      ],
      "source": [
        "!canya --input canya_input.txt --output basic_out.txt"
      ],
      "id": "THfMwqjlJfF7"
    },
    {
      "cell_type": "markdown",
      "metadata": {
        "id": "7huBNx44JfF8"
      },
      "source": [
        "### Step 4: Run CANYA with Summary Mode (`--summarize mean`)"
      ],
      "id": "7huBNx44JfF8"
    },
    {
      "cell_type": "code",
      "execution_count": 5,
      "metadata": {
        "id": "iQMDBGYjJfF8",
        "outputId": "5b1135a6-d2ee-44de-c520-060b1584fc16",
        "colab": {
          "base_uri": "https://localhost:8080/"
        }
      },
      "outputs": [
        {
          "output_type": "stream",
          "name": "stdout",
          "text": [
            "/bin/bash: line 1: canya: command not found\n"
          ]
        }
      ],
      "source": [
        "!canya --input canya_input.txt --output summarized_out.txt --summarize mean"
      ],
      "id": "iQMDBGYjJfF8"
    },
    {
      "cell_type": "markdown",
      "metadata": {
        "id": "5p_cE7xdJfF8"
      },
      "source": [
        "### Step 5: Run CANYA in Ensemble Mode (Robust Prediction)"
      ],
      "id": "5p_cE7xdJfF8"
    },
    {
      "cell_type": "code",
      "execution_count": 6,
      "metadata": {
        "id": "HJJ4JUFbJfF8",
        "outputId": "d6a3d650-5489-4d07-e3ec-aaa364860770",
        "colab": {
          "base_uri": "https://localhost:8080/"
        }
      },
      "outputs": [
        {
          "output_type": "stream",
          "name": "stdout",
          "text": [
            "/bin/bash: line 1: canya: command not found\n"
          ]
        }
      ],
      "source": [
        "!canya --input canya_input.txt --output ensemble_out.txt --summarize mean --mode ensemble"
      ],
      "id": "HJJ4JUFbJfF8"
    },
    {
      "cell_type": "markdown",
      "metadata": {
        "id": "LKuPCM4GJfF8"
      },
      "source": [
        "### Step 6: Visualize Results"
      ],
      "id": "LKuPCM4GJfF8"
    },
    {
      "cell_type": "code",
      "execution_count": 7,
      "metadata": {
        "id": "axFVSoNnJfF8",
        "outputId": "48de9513-3412-40ba-a194-88a5e4664396",
        "colab": {
          "base_uri": "https://localhost:8080/"
        }
      },
      "outputs": [
        {
          "output_type": "stream",
          "name": "stdout",
          "text": [
            "Error reading results: [Errno 2] No such file or directory: 'ensemble_out.txt'\n"
          ]
        }
      ],
      "source": [
        "import pandas as pd\n",
        "import matplotlib.pyplot as plt\n",
        "import seaborn as sns\n",
        "\n",
        "try:\n",
        "    df = pd.read_csv(\"ensemble_out.txt\", sep='\\t')\n",
        "    df_sorted = df.sort_values('Mean_Score', ascending=False).reset_index(drop=True)\n",
        "\n",
        "    plt.figure(figsize=(10, 6))\n",
        "    sns.barplot(x='ID', y='Mean_Score', data=df_sorted, palette='viridis', edgecolor='black')\n",
        "    plt.errorbar(x=df_sorted.index, y=df_sorted['Mean_Score'], yerr=df_sorted['Std_Dev_Score'], fmt='none', c='black', capsize=5)\n",
        "    plt.title('CANYA Nucleation Score (Ensemble Mode)', fontsize=16)\n",
        "    plt.xlabel('Sequence ID')\n",
        "    plt.ylabel('Mean ± Std Dev')\n",
        "    plt.ylim(0, 1)\n",
        "    plt.tight_layout()\n",
        "    plt.show()\n",
        "except Exception as e:\n",
        "    print(\"Error reading results:\", e)"
      ],
      "id": "axFVSoNnJfF8"
    }
  ],
  "metadata": {
    "kernelspec": {
      "display_name": "Python 3",
      "language": "python",
      "name": "python3"
    },
    "colab": {
      "provenance": []
    }
  },
  "nbformat": 4,
  "nbformat_minor": 5
}